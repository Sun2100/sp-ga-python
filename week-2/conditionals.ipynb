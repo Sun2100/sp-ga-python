{
 "cells": [
  {
   "cell_type": "code",
   "execution_count": 10,
   "metadata": {},
   "outputs": [
    {
     "name": "stdout",
     "output_type": "stream",
     "text": [
      "not eligible to vote\n",
      "too far\n",
      "the difference is 11\n",
      "good day\n",
      "if else\n"
     ]
    }
   ],
   "source": [
    "#for conditionals, we use comparison operators:\n",
    "\n",
    "# >\n",
    "# <\n",
    "# >= greater than or equal to \n",
    "# <= less than or equal to\n",
    "# == equal\n",
    "# != not equal\n",
    "\n",
    "age = 17\n",
    "\n",
    "#print \"eligible to vote\" if age is greater or equal to 18\n",
    "\n",
    "if age >= 18:\n",
    "    print(\"eligible to vote\")\n",
    "else :\n",
    "    print(\"not eligible to vote\")\n",
    "\n",
    "#print \"too far\" if distance between (difference) city_one and city_two is greater than 10\n",
    "city_one = 45\n",
    "city_two = 56\n",
    "\n",
    "difference = abs(city_one - city_two)\n",
    "\n",
    "if difference >= 10:\n",
    "    print(\"too far\")\n",
    "    print(\"the difference is\", difference)\n",
    "else :\n",
    "    print(\"too close\")\n",
    "    print(\"the difference is\", difference)\n",
    "\n",
    "\n",
    "#else\n",
    "day_of_week = \"mon\"\n",
    "#print \"good day\" if the day of the week is mon\n",
    "#otherwise print \"do something else\"\n",
    "\n",
    "if day_of_week == \"mon\":\n",
    "    print(\"good day\")\n",
    "else:\n",
    "    print(\"do something else\")\n",
    "\n",
    "\n",
    "#multiple options\n",
    "\n",
    "#mon - \"if else\"\n",
    "#wed - \"loops\"\n",
    "#fri - \"homework\"\n",
    "#any other day - \"Fun stuff woohoo!\"\n",
    "\n",
    "if day_of_week == \"mon\":\n",
    "    print(\"if else\")\n",
    "elif day_of_week == \"wed\":\n",
    "    print(\"loops\")\n",
    "elif day_of_week == \"fri\":\n",
    "    print(\"homework\")\n",
    "else:\n",
    "    print(\"fun stuff woohoo!\")\n",
    "\n"
   ]
  }
 ],
 "metadata": {
  "kernelspec": {
   "display_name": "Python 3.9.12 ('base')",
   "language": "python",
   "name": "python3"
  },
  "language_info": {
   "codemirror_mode": {
    "name": "ipython",
    "version": 3
   },
   "file_extension": ".py",
   "mimetype": "text/x-python",
   "name": "python",
   "nbconvert_exporter": "python",
   "pygments_lexer": "ipython3",
   "version": "3.9.12"
  },
  "orig_nbformat": 4,
  "vscode": {
   "interpreter": {
    "hash": "d0d70ec63e48daca6a80a8f89659f2083bfc1275bfb9d7f3c65e2756bbb00474"
   }
  }
 },
 "nbformat": 4,
 "nbformat_minor": 2
}
