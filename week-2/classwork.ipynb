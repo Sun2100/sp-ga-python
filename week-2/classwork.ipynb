{
 "cells": [
  {
   "cell_type": "code",
   "execution_count": null,
   "metadata": {},
   "outputs": [],
   "source": [
    "string_1 = 'line'\n",
    "string_2 = 'text'\n",
    "\n",
    "#check if the two are equal, print 'they are the same' if they are\n",
    "#otherwise print 'they are not the same'\n",
    "\n",
    "population = 12000000\n",
    "area = 15000\n",
    "\n",
    "#if the population per area is greater than 20000\n",
    "#print, overpopulated\n",
    "#otherwise print underpopulated\n",
    "\n",
    "#check if a number is less than, greater, or equal to 55\n",
    "number = 55\n"
   ]
  },
  {
   "cell_type": "code",
   "execution_count": null,
   "metadata": {},
   "outputs": [],
   "source": [
    "#Challenge 1\n",
    "#check if a password is valid based on the following rules\n",
    "# at least one letter between[a-z] and at lesat one letter between [A-Z]\n",
    "# at least one number between [0-9]\n",
    "# at leat one character from [$@#]\n",
    "# minimum length of 6 characters\n",
    "# maximum length of 16 characters\n",
    "\n"
   ]
  },
  {
   "cell_type": "code",
   "execution_count": 34,
   "metadata": {},
   "outputs": [
    {
     "name": "stdout",
     "output_type": "stream",
     "text": [
      "yaaah you are correct\n"
     ]
    }
   ],
   "source": [
    "#Challenge 2\n",
    "#prompt the user to enter a value between 1 and 10\n",
    "# compare the input with your secret number\n",
    "# if input if less that secret print 'too small'\n",
    "# if input if greater that secret print 'too big'\n",
    "#if its equal, print 'yaaah you are correct', then end\n",
    "\n",
    "#read user input //cin\n",
    "\n",
    "secret = 5\n",
    "\n",
    "temp = int(input(\"Enter a number: \"))\n",
    "\n",
    "if temp > secret:\n",
    "    print(\"too big\")\n",
    "elif temp < secret:\n",
    "    print(\"too small\")\n",
    "else:\n",
    "    print(\"yaaah you are correct\")\n",
    "\n"
   ]
  },
  {
   "cell_type": "code",
   "execution_count": 9,
   "metadata": {},
   "outputs": [
    {
     "name": "stdout",
     "output_type": "stream",
     "text": [
      "B\n",
      "B\n"
     ]
    }
   ],
   "source": [
    "#Challenge 3\n",
    "#print the letter grade given a score\n",
    "#80 and above, print 'A'\n",
    "#60 ot 79 print 'B'\n",
    "#50 to 59 print 'C'\n",
    "#otherwise print 'F' (0 - 49)\n",
    "\n",
    "score = 77\n",
    "\n",
    "if score <= 49 and score >= 0:\n",
    "    print(\"F\")\n",
    "elif score <= 59 and score >= 50:\n",
    "    print(\"C\")\n",
    "elif score <= 79 and score >= 60:\n",
    "    print(\"B\")\n",
    "elif score >= 80:\n",
    "    print(\"A\")\n",
    "\n",
    "if (score <= 49) and (score >= 0):\n",
    "    print(\"F\")\n",
    "elif (score >= 50) and (score <= 59):\n",
    "    print(\"C\")\n",
    "elif (score >= 60) and (score <= 79):\n",
    "    print(\"B\")\n",
    "elif score >= 80:\n",
    "    print(\"A\")"
   ]
  },
  {
   "cell_type": "code",
   "execution_count": 10,
   "metadata": {},
   "outputs": [
    {
     "name": "stdout",
     "output_type": "stream",
     "text": [
      "none\n"
     ]
    }
   ],
   "source": [
    "#compound statements in our if\n",
    "\n",
    "#if it is a monday and it is raining - stay inside\n",
    "\n",
    "day_of_week = \"Monday\"\n",
    "weather = \"sunny\"\n",
    "action = \"none\"\n",
    "\n",
    "if day_of_week == \"Monday\" and weather == \"rainy\":\n",
    "    action = \"stay inside\"\n",
    "#else:\n",
    "#    action = \"go outside\"\n",
    "\n",
    "print(action)\n",
    "\n",
    "\n",
    "\n",
    "#and - all conditions have to be true for the result to be true"
   ]
  },
  {
   "cell_type": "code",
   "execution_count": 22,
   "metadata": {},
   "outputs": [
    {
     "name": "stdout",
     "output_type": "stream",
     "text": [
      "we got a vowel!\n",
      "we got a vowel!\n"
     ]
    }
   ],
   "source": [
    "#check if a character is a vowel\n",
    "letter_one = \"a\"\n",
    "letter_two = \"i\"\n",
    "letter_three = \"x\"\n",
    "letter_four = \"U\"\n",
    "\n",
    "test_one = letter_two\n",
    "test_two = letter_four\n",
    "\n",
    "vowels = [\"a\", \"e\", \"i\", \"o\", \"u\", \"A\", \"E\", \"I\", \"O\", \"U\"]\n",
    "#print(vowel[0])\n",
    "\n",
    "#use the \"in\" operator to check for membership in a list or string\n",
    "\n",
    "if test_one in vowels:\n",
    "    print(\"we got a vowel!\")\n",
    "else:\n",
    "    print(\"aw man\")\n",
    "\n",
    "#what if upper case\n",
    "if test_two in vowels:\n",
    "    print(\"we got a vowel!\")\n",
    "else:\n",
    "    print(\"aw man\")\n"
   ]
  },
  {
   "cell_type": "code",
   "execution_count": 25,
   "metadata": {},
   "outputs": [
    {
     "name": "stdout",
     "output_type": "stream",
     "text": [
      "son\n"
     ]
    }
   ],
   "source": [
    "#user input from keyboard\n",
    "\n",
    "name = input(\"Type your name here: \")\n",
    "print(name)"
   ]
  },
  {
   "cell_type": "code",
   "execution_count": 29,
   "metadata": {},
   "outputs": [
    {
     "name": "stdout",
     "output_type": "stream",
     "text": [
      "55\n"
     ]
    }
   ],
   "source": [
    "number_one = int(input(\"Enter first number: \"))\n",
    "number_two = int(input(\"Enter second number: \"))\n",
    "\n",
    "print(number_one + number_two) #why can't we convert in this line \n",
    "#print(int(number_one + number_two))"
   ]
  },
  {
   "cell_type": "code",
   "execution_count": 42,
   "metadata": {},
   "outputs": [
    {
     "name": "stdout",
     "output_type": "stream",
     "text": [
      "buzz\n"
     ]
    },
    {
     "ename": "KeyboardInterrupt",
     "evalue": "Interrupted by user",
     "output_type": "error",
     "traceback": [
      "\u001b[0;31m---------------------------------------------------------------------------\u001b[0m",
      "\u001b[0;31mKeyboardInterrupt\u001b[0m                         Traceback (most recent call last)",
      "\u001b[1;32m/Users/sun/Desktop/pyth-15/week-2/classwork.ipynb Cell 9'\u001b[0m in \u001b[0;36m<cell line: 15>\u001b[0;34m()\u001b[0m\n\u001b[1;32m      <a href='vscode-notebook-cell:/Users/sun/Desktop/pyth-15/week-2/classwork.ipynb#ch0000009?line=0'>1</a>\u001b[0m \u001b[39m#fizzbuzz\u001b[39;00m\n\u001b[1;32m      <a href='vscode-notebook-cell:/Users/sun/Desktop/pyth-15/week-2/classwork.ipynb#ch0000009?line=1'>2</a>\u001b[0m \n\u001b[1;32m      <a href='vscode-notebook-cell:/Users/sun/Desktop/pyth-15/week-2/classwork.ipynb#ch0000009?line=2'>3</a>\u001b[0m \u001b[39m#num = int(input(\"Enter your number: \"))\u001b[39;00m\n\u001b[0;32m   (...)\u001b[0m\n\u001b[1;32m     <a href='vscode-notebook-cell:/Users/sun/Desktop/pyth-15/week-2/classwork.ipynb#ch0000009?line=10'>11</a>\u001b[0m \u001b[39m#because if the input number is 15, it is divisible by all 15, 5, and 3\u001b[39;00m\n\u001b[1;32m     <a href='vscode-notebook-cell:/Users/sun/Desktop/pyth-15/week-2/classwork.ipynb#ch0000009?line=11'>12</a>\u001b[0m \u001b[39m#hence if the order was check 3,5,15 then the output will give fizz, buzz and fizzbuzz\u001b[39;00m\n\u001b[1;32m     <a href='vscode-notebook-cell:/Users/sun/Desktop/pyth-15/week-2/classwork.ipynb#ch0000009?line=14'>15</a>\u001b[0m \u001b[39mfor\u001b[39;00m num \u001b[39min\u001b[39;00m \u001b[39mrange\u001b[39m(\u001b[39m1\u001b[39m, \u001b[39m51\u001b[39m):\n\u001b[0;32m---> <a href='vscode-notebook-cell:/Users/sun/Desktop/pyth-15/week-2/classwork.ipynb#ch0000009?line=15'>16</a>\u001b[0m     num \u001b[39m=\u001b[39m \u001b[39mint\u001b[39m(\u001b[39minput\u001b[39;49m(\u001b[39m\"\u001b[39;49m\u001b[39mEnter your number: \u001b[39;49m\u001b[39m\"\u001b[39;49m))\n\u001b[1;32m     <a href='vscode-notebook-cell:/Users/sun/Desktop/pyth-15/week-2/classwork.ipynb#ch0000009?line=16'>17</a>\u001b[0m     \u001b[39m#your code here\u001b[39;00m\n\u001b[1;32m     <a href='vscode-notebook-cell:/Users/sun/Desktop/pyth-15/week-2/classwork.ipynb#ch0000009?line=17'>18</a>\u001b[0m     \u001b[39mif\u001b[39;00m num \u001b[39m%\u001b[39m \u001b[39m15\u001b[39m \u001b[39m==\u001b[39m \u001b[39m0\u001b[39m:\n",
      "File \u001b[0;32m~/opt/anaconda3/lib/python3.9/site-packages/ipykernel/kernelbase.py:1075\u001b[0m, in \u001b[0;36mKernel.raw_input\u001b[0;34m(self, prompt)\u001b[0m\n\u001b[1;32m   <a href='file:///Users/sun/opt/anaconda3/lib/python3.9/site-packages/ipykernel/kernelbase.py?line=1070'>1071</a>\u001b[0m \u001b[39mif\u001b[39;00m \u001b[39mnot\u001b[39;00m \u001b[39mself\u001b[39m\u001b[39m.\u001b[39m_allow_stdin:\n\u001b[1;32m   <a href='file:///Users/sun/opt/anaconda3/lib/python3.9/site-packages/ipykernel/kernelbase.py?line=1071'>1072</a>\u001b[0m     \u001b[39mraise\u001b[39;00m StdinNotImplementedError(\n\u001b[1;32m   <a href='file:///Users/sun/opt/anaconda3/lib/python3.9/site-packages/ipykernel/kernelbase.py?line=1072'>1073</a>\u001b[0m         \u001b[39m\"\u001b[39m\u001b[39mraw_input was called, but this frontend does not support input requests.\u001b[39m\u001b[39m\"\u001b[39m\n\u001b[1;32m   <a href='file:///Users/sun/opt/anaconda3/lib/python3.9/site-packages/ipykernel/kernelbase.py?line=1073'>1074</a>\u001b[0m     )\n\u001b[0;32m-> <a href='file:///Users/sun/opt/anaconda3/lib/python3.9/site-packages/ipykernel/kernelbase.py?line=1074'>1075</a>\u001b[0m \u001b[39mreturn\u001b[39;00m \u001b[39mself\u001b[39;49m\u001b[39m.\u001b[39;49m_input_request(\n\u001b[1;32m   <a href='file:///Users/sun/opt/anaconda3/lib/python3.9/site-packages/ipykernel/kernelbase.py?line=1075'>1076</a>\u001b[0m     \u001b[39mstr\u001b[39;49m(prompt),\n\u001b[1;32m   <a href='file:///Users/sun/opt/anaconda3/lib/python3.9/site-packages/ipykernel/kernelbase.py?line=1076'>1077</a>\u001b[0m     \u001b[39mself\u001b[39;49m\u001b[39m.\u001b[39;49m_parent_ident[\u001b[39m\"\u001b[39;49m\u001b[39mshell\u001b[39;49m\u001b[39m\"\u001b[39;49m],\n\u001b[1;32m   <a href='file:///Users/sun/opt/anaconda3/lib/python3.9/site-packages/ipykernel/kernelbase.py?line=1077'>1078</a>\u001b[0m     \u001b[39mself\u001b[39;49m\u001b[39m.\u001b[39;49mget_parent(\u001b[39m\"\u001b[39;49m\u001b[39mshell\u001b[39;49m\u001b[39m\"\u001b[39;49m),\n\u001b[1;32m   <a href='file:///Users/sun/opt/anaconda3/lib/python3.9/site-packages/ipykernel/kernelbase.py?line=1078'>1079</a>\u001b[0m     password\u001b[39m=\u001b[39;49m\u001b[39mFalse\u001b[39;49;00m,\n\u001b[1;32m   <a href='file:///Users/sun/opt/anaconda3/lib/python3.9/site-packages/ipykernel/kernelbase.py?line=1079'>1080</a>\u001b[0m )\n",
      "File \u001b[0;32m~/opt/anaconda3/lib/python3.9/site-packages/ipykernel/kernelbase.py:1120\u001b[0m, in \u001b[0;36mKernel._input_request\u001b[0;34m(self, prompt, ident, parent, password)\u001b[0m\n\u001b[1;32m   <a href='file:///Users/sun/opt/anaconda3/lib/python3.9/site-packages/ipykernel/kernelbase.py?line=1116'>1117</a>\u001b[0m             \u001b[39mbreak\u001b[39;00m\n\u001b[1;32m   <a href='file:///Users/sun/opt/anaconda3/lib/python3.9/site-packages/ipykernel/kernelbase.py?line=1117'>1118</a>\u001b[0m \u001b[39mexcept\u001b[39;00m \u001b[39mKeyboardInterrupt\u001b[39;00m:\n\u001b[1;32m   <a href='file:///Users/sun/opt/anaconda3/lib/python3.9/site-packages/ipykernel/kernelbase.py?line=1118'>1119</a>\u001b[0m     \u001b[39m# re-raise KeyboardInterrupt, to truncate traceback\u001b[39;00m\n\u001b[0;32m-> <a href='file:///Users/sun/opt/anaconda3/lib/python3.9/site-packages/ipykernel/kernelbase.py?line=1119'>1120</a>\u001b[0m     \u001b[39mraise\u001b[39;00m \u001b[39mKeyboardInterrupt\u001b[39;00m(\u001b[39m\"\u001b[39m\u001b[39mInterrupted by user\u001b[39m\u001b[39m\"\u001b[39m) \u001b[39mfrom\u001b[39;00m \u001b[39mNone\u001b[39m\n\u001b[1;32m   <a href='file:///Users/sun/opt/anaconda3/lib/python3.9/site-packages/ipykernel/kernelbase.py?line=1120'>1121</a>\u001b[0m \u001b[39mexcept\u001b[39;00m \u001b[39mException\u001b[39;00m:\n\u001b[1;32m   <a href='file:///Users/sun/opt/anaconda3/lib/python3.9/site-packages/ipykernel/kernelbase.py?line=1121'>1122</a>\u001b[0m     \u001b[39mself\u001b[39m\u001b[39m.\u001b[39mlog\u001b[39m.\u001b[39mwarning(\u001b[39m\"\u001b[39m\u001b[39mInvalid Message:\u001b[39m\u001b[39m\"\u001b[39m, exc_info\u001b[39m=\u001b[39m\u001b[39mTrue\u001b[39;00m)\n",
      "\u001b[0;31mKeyboardInterrupt\u001b[0m: Interrupted by user"
     ]
    }
   ],
   "source": [
    "#fizzbuzz\n",
    "\n",
    "#num = int(input(\"Enter your number: \"))\n",
    "\n",
    "#if num is divisible by 3, print \"fizz\"\n",
    "#if num is divisible by 5, print \"buzz\"\n",
    "#if num is divisible by 15, print \"fizzbuzz\"\n",
    "#otherwise, just print the number\n",
    "\n",
    "#hint the order of your if/elif statements are important\n",
    "#because if the input number is 15, it is divisible by all 15, 5, and 3\n",
    "#hence if the order was check 3,5,15 then the output will give fizz, buzz and fizzbuzz\n",
    "\n",
    "\n",
    "# = is assignment (setting something equal to something)\n",
    "# == check if the two options are the same\n",
    "\n",
    "for num in range(1, 51):\n",
    "    num = int(input(\"Enter your number: \"))\n",
    "    #your code here\n",
    "    if num % 15 == 0:\n",
    "        print(\"fizzbuzz\")\n",
    "    elif num % 5 == 0:\n",
    "        print(\"buzz\")\n",
    "    elif num % 3 == 0:\n",
    "        print(\"fizz\")\n",
    "    else:\n",
    "        print(num)\n",
    "\n",
    "#ANS\n",
    "#for num in range(1, 51):\n",
    "    #your code here\n",
    "#   if num % 15 == 0:\n",
    "#        print(\"fizzbuzz\")\n",
    "#    elif num % 5 == 0:\n",
    "#        print(\"buzz\")\n",
    "#    elif num % 3 == 0:\n",
    "#        print(\"fizz\")\n",
    "#    else:\n",
    " #       print(num)"
   ]
  }
 ],
 "metadata": {
  "kernelspec": {
   "display_name": "Python 3.9.12 ('base')",
   "language": "python",
   "name": "python3"
  },
  "language_info": {
   "codemirror_mode": {
    "name": "ipython",
    "version": 3
   },
   "file_extension": ".py",
   "mimetype": "text/x-python",
   "name": "python",
   "nbconvert_exporter": "python",
   "pygments_lexer": "ipython3",
   "version": "3.9.12"
  },
  "orig_nbformat": 4,
  "vscode": {
   "interpreter": {
    "hash": "d0d70ec63e48daca6a80a8f89659f2083bfc1275bfb9d7f3c65e2756bbb00474"
   }
  }
 },
 "nbformat": 4,
 "nbformat_minor": 2
}
