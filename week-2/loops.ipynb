{
 "cells": [
  {
   "cell_type": "code",
   "execution_count": 1,
   "metadata": {},
   "outputs": [
    {
     "name": "stdout",
     "output_type": "stream",
     "text": [
      "7\n"
     ]
    }
   ],
   "source": [
    "#for loop\n",
    "\n",
    "# a string\n",
    "my_string = \"This is an arbritary string\"\n",
    "\n",
    "#how would we find the number of vowels in this string\n",
    "vowels = [\"a\", \"e\", \"i\", \"o\", \"u\", \"A\", \"E\", \"I\", \"O\", \"U\"]\n",
    "\n",
    "#get the length of the string to set the limit of iterations using len()\n",
    "#len_of_string = len(my_string)\n",
    "#print(len_of_string)\n",
    "\n",
    "#counter to count for vowel\n",
    "counter = int(0)\n",
    "\n",
    "for letter in my_string:\n",
    "    if letter in vowels:\n",
    "        counter += 1\n",
    "\n",
    "print(counter)\n",
    "\n",
    "\n",
    "\n",
    "\n"
   ]
  },
  {
   "cell_type": "code",
   "execution_count": 7,
   "metadata": {},
   "outputs": [
    {
     "name": "stdout",
     "output_type": "stream",
     "text": [
      "-1 , not a zeros\n",
      "-5 , not a zeros\n",
      "4 , not a zeros\n",
      "3 , not a zeros\n",
      "7 , not a zeros\n",
      "8 , not a zeros\n",
      "0 , found a zero\n"
     ]
    }
   ],
   "source": [
    "#check if there is a zero in this list\n",
    "#if yes, print found a zero\n",
    "#if no, print no zero\n",
    "\n",
    "nums = [-1, -5, 4, 3, 7, 8, 0, -7]\n",
    "\n",
    "for numbers in nums:\n",
    "    if numbers == 0:\n",
    "        print(numbers, \",\", \"found a zero\")\n",
    "        break #how to exit from a loop\n",
    "    else:\n",
    "        print(numbers, \",\", \"not a zeros\")\n",
    "\n",
    "\n"
   ]
  },
  {
   "cell_type": "code",
   "execution_count": 9,
   "metadata": {},
   "outputs": [
    {
     "name": "stdout",
     "output_type": "stream",
     "text": [
      "13\n"
     ]
    }
   ],
   "source": [
    "#print the first odd number in this list\n",
    "my_nums = [0, 2, -6, -12, 13, 5, 24, 11, 3] \n",
    "\n",
    "for numbers in my_nums:\n",
    "    if numbers%2 != 0:\n",
    "        print(numbers)\n",
    "        break\n",
    "    else:\n",
    "        continue\n",
    "\n",
    "    "
   ]
  },
  {
   "cell_type": "code",
   "execution_count": 17,
   "metadata": {},
   "outputs": [
    {
     "name": "stdout",
     "output_type": "stream",
     "text": [
      "51\n",
      "59\n",
      "-8\n"
     ]
    }
   ],
   "source": [
    "#find the sum of all the numbers in this list\n",
    "temps = [-2, -5, -1, 0,2, 5, 11, 7, 13, 21]\n",
    "sumy = int(0)\n",
    "\n",
    "for numbers in temps:\n",
    "    sumy = sumy + numbers\n",
    "\n",
    "print(sumy)\n",
    "\n",
    "#calculate two totals: total of the negative numbers, and total of the positive numbers\n",
    "positive_total = 0\n",
    "negative_total = 0\n",
    "\n",
    "for num in temps:\n",
    "    if num >= 0: #postitve\n",
    "        positive_total = positive_total + num\n",
    "\n",
    "    else: #num < 0: #negative\n",
    "        negative_total += num\n",
    "    \n",
    "\n",
    "print(\"positive total:\", positive_total)\n",
    "print(\"negative total:\", negative_total)\n",
    "\n"
   ]
  },
  {
   "cell_type": "code",
   "execution_count": 30,
   "metadata": {},
   "outputs": [
    {
     "name": "stdout",
     "output_type": "stream",
     "text": [
      " Pythn s mzng\n",
      " oiaai\n"
     ]
    }
   ],
   "source": [
    "#create a new string from this string, with all the vowels removed\n",
    "\n",
    "string = \"Python is amazing\"\n",
    "\n",
    "vowels = [\"a\", \"e\", \"i\", \"o\", \"u\", \"A\", \"E\", \"I\", \"O\", \"U\"]\n",
    "\n",
    "empty_string = \" \"\n",
    "vowels_in = \" \"\n",
    "\n",
    "for character in string:\n",
    "    if character in vowels:\n",
    "        vowels_in += character\n",
    "    else:\n",
    "        empty_string += character\n",
    "\n",
    "print(empty_string)\n",
    "print(vowels_in)\n",
    "\n",
    "#ANS\n",
    "#for character in string:\n",
    "#    if letter not in vowels:\n",
    "#        empty_string += character\n",
    "#print(empty_string)\n"
   ]
  },
  {
   "cell_type": "code",
   "execution_count": 32,
   "metadata": {},
   "outputs": [
    {
     "name": "stdout",
     "output_type": "stream",
     "text": [
      "3\n"
     ]
    }
   ],
   "source": [
    "#for loops using indences\n",
    "#what if we want to know the index of a value in a list\n",
    "\n",
    "value = [-1, 5, 3, 7, 2, 8, 7, -11, 23]\n",
    "\n",
    "#what is the index of the first 7 in the list\n",
    "    #ANS: value[3] index 3\n",
    "\n",
    "#we need to use the range function\n",
    "    \n",
    "first_seven_index = -1\n",
    "\n",
    "for idx in range( len(value) ): #len of value is 9 and range will go from 0-8\n",
    "    if value[idx] == 7:\n",
    "        first_seven_index = idx\n",
    "        break\n",
    "\n",
    "print(first_seven_index)\n",
    "\n"
   ]
  },
  {
   "cell_type": "code",
   "execution_count": 36,
   "metadata": {},
   "outputs": [
    {
     "name": "stdout",
     "output_type": "stream",
     "text": [
      "[1, 5]\n"
     ]
    }
   ],
   "source": [
    "#challenge\n",
    "cities = [\"Cancun\", \"Cozumel\", \"New Orleans\", \"Montego Bay\", \"Rio De Janerio\", \"Cozumel\"]\n",
    "\n",
    "#first find the position of \"Cozumel\" in the list, \n",
    "#replace it with \"Los Cabos\"\n",
    "\n",
    "#hint, do not update the list while you are searching for item\n",
    "#hint, find the position of each \"Cozumel\"\n",
    "\n",
    "#1.first fidn the position of all the Cozumels\n",
    "#2. store them in new list\n",
    "#3. print to check\n",
    "#4. replace \n",
    "\n",
    "#list of position\n",
    "index = []\n",
    "\n",
    "for  values in range( len(cities) ):\n",
    "    if cities[values] == \"Cozumel\":\n",
    "        #val = values\n",
    "        #index.append(val)\n",
    "        index.append(values)\n",
    "    else:\n",
    "        continue\n",
    "\n",
    "print(index)\n",
    "\n"
   ]
  },
  {
   "cell_type": "code",
   "execution_count": 39,
   "metadata": {},
   "outputs": [
    {
     "name": "stdout",
     "output_type": "stream",
     "text": [
      "0\n",
      "1\n",
      "2\n",
      "3\n",
      "4\n",
      "5\n",
      "6\n",
      "7\n",
      "8\n",
      "9\n",
      "10\n"
     ]
    }
   ],
   "source": [
    "#while loops\n",
    "\n",
    "number = 0\n",
    "while number <= 10:\n",
    "    print(number)\n",
    "    number += 1\n"
   ]
  },
  {
   "cell_type": "code",
   "execution_count": 41,
   "metadata": {},
   "outputs": [
    {
     "name": "stdout",
     "output_type": "stream",
     "text": [
      "not correct, guess again\n",
      "not correct, guess again\n",
      "not correct, guess again\n",
      "not correct, guess again\n",
      "not correct, guess again\n",
      "not correct, guess again\n",
      "yes, you're correct\n"
     ]
    }
   ],
   "source": [
    "#when you want to continuously ask the user for input\n",
    "\n",
    "#prompt the user to guess the secret number\n",
    "\n",
    "import random\n",
    "\n",
    "secret_number = random.randint(1,10)  #random number from 1 to 10\n",
    "\n",
    "input_number = input(\"enter a number between 1 to 10: \")\n",
    "\n",
    "while (input_number != secret_number):\n",
    "    print(\"not correct, guess again\")\n",
    "    input_number = int(input(\"enter a number between 1 to 10: \"))\n",
    "\n",
    "print(\"yes, you're correct\")\n",
    "\n",
    "\n"
   ]
  },
  {
   "cell_type": "code",
   "execution_count": 42,
   "metadata": {},
   "outputs": [
    {
     "name": "stdout",
     "output_type": "stream",
     "text": [
      "not correct, guess again\n",
      "not correct, guess again\n",
      "not correct, guess again\n",
      "not correct, guess again\n",
      "not correct, guess again\n",
      "not correct, guess again\n",
      "not correct, guess again\n",
      "not correct, guess again\n",
      "not correct, guess again\n",
      "not correct, guess again\n",
      "correct\n"
     ]
    }
   ],
   "source": [
    "#infinite loop, deliberately\n",
    "\n",
    "while True: #since true is always true, this loop will run indefinetly\n",
    "    guess = int(input(\"enter a number between 1 to 10: \"))\n",
    "    if guess == secret_number:\n",
    "        print(\"correct\")\n",
    "        break\n",
    "    else:\n",
    "        print(\"not correct, guess again\")\n",
    "\n"
   ]
  },
  {
   "cell_type": "code",
   "execution_count": null,
   "metadata": {},
   "outputs": [],
   "source": []
  }
 ],
 "metadata": {
  "kernelspec": {
   "display_name": "Python 3.9.12 ('base')",
   "language": "python",
   "name": "python3"
  },
  "language_info": {
   "codemirror_mode": {
    "name": "ipython",
    "version": 3
   },
   "file_extension": ".py",
   "mimetype": "text/x-python",
   "name": "python",
   "nbconvert_exporter": "python",
   "pygments_lexer": "ipython3",
   "version": "3.9.12"
  },
  "orig_nbformat": 4,
  "vscode": {
   "interpreter": {
    "hash": "d0d70ec63e48daca6a80a8f89659f2083bfc1275bfb9d7f3c65e2756bbb00474"
   }
  }
 },
 "nbformat": 4,
 "nbformat_minor": 2
}
