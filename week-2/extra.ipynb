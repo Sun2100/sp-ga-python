{
 "cells": [
  {
   "cell_type": "code",
   "execution_count": 15,
   "metadata": {},
   "outputs": [
    {
     "name": "stdout",
     "output_type": "stream",
     "text": [
      "381.5\n"
     ]
    }
   ],
   "source": [
    "import csv\n",
    "\n",
    "total_uber_eats_spent = 0\n",
    "\n",
    "with open('uber_eats.csv') as data_file:\n",
    "    data = csv.reader(data_file)\n",
    "    \n",
    "    for row in data:\n",
    "        #find the total amount spend on uber eats\n",
    "        try:\n",
    "        # or if row[2] != 'son':\n",
    "            total_uber_eats_spent += float(row[2])\n",
    "        except:\n",
    "            pass\n",
    "\n",
    "print(total_uber_eats_spent)\n"
   ]
  }
 ],
 "metadata": {
  "kernelspec": {
   "display_name": "Python 3.9.12 ('base')",
   "language": "python",
   "name": "python3"
  },
  "language_info": {
   "codemirror_mode": {
    "name": "ipython",
    "version": 3
   },
   "file_extension": ".py",
   "mimetype": "text/x-python",
   "name": "python",
   "nbconvert_exporter": "python",
   "pygments_lexer": "ipython3",
   "version": "3.9.12"
  },
  "orig_nbformat": 4,
  "vscode": {
   "interpreter": {
    "hash": "d0d70ec63e48daca6a80a8f89659f2083bfc1275bfb9d7f3c65e2756bbb00474"
   }
  }
 },
 "nbformat": 4,
 "nbformat_minor": 2
}
