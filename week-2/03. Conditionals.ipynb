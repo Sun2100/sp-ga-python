{
 "cells": [
  {
   "cell_type": "code",
   "execution_count": null,
   "metadata": {},
   "outputs": [],
   "source": [
    "# 3.1 Price Conditions\n",
    "# Translate the following logical decisions into python conditionals"
   ]
  },
  {
   "cell_type": "code",
   "execution_count": 2,
   "metadata": {},
   "outputs": [
    {
     "name": "stdout",
     "output_type": "stream",
     "text": [
      "28.75\n"
     ]
    }
   ],
   "source": [
    "# A. If the price is under 10, add 10% tax to the price. \n",
    "# Otherwise, add 15% luxury tax instead.\n",
    "price = 25\n",
    "\n",
    "if price < 10:\n",
    "    price += 0.1*(price)\n",
    "else:\n",
    "    price += 0.15*(price)\n",
    "\n",
    "#check\n",
    "print(price)\n"
   ]
  },
  {
   "cell_type": "code",
   "execution_count": 17,
   "metadata": {},
   "outputs": [
    {
     "name": "stdout",
     "output_type": "stream",
     "text": [
      "23.0\n"
     ]
    }
   ],
   "source": [
    "# B. If the customer's status is \"VIP\", lower the price by 20%\n",
    "\n",
    "customer = { \"name\": \"Lisa Su\", \"status\": \"VIP\" }\n",
    "\n",
    "if customer[\"status\"] == \"VIP\":\n",
    "    deduction = 0.2*price\n",
    "    new_price = price - deduction\n",
    "\n",
    "#update price\n",
    "price = new_price\n",
    "\n",
    "#check\n",
    "print(price)\n"
   ]
  },
  {
   "cell_type": "code",
   "execution_count": 21,
   "metadata": {},
   "outputs": [
    {
     "name": "stdout",
     "output_type": "stream",
     "text": [
      "For less than a cup of coffee, buy now for 4\n"
     ]
    }
   ],
   "source": [
    "# C. Let's alter our advertising based on the price of the product, filling in the blank with the price\n",
    "#    i. If the price is less than 5, print \"For less than a cup of coffee, buy now for _____\"\n",
    "#.   ii. Otherwise, if the price is less than 20, print \"Good value. Great products. Buy now for _____\"\n",
    "#.   iii. Otherwise, print \"You get what you pay for. Get the most. Buy now for ______\"\n",
    "\n",
    "if price > 20:\n",
    "    print(f\"You get what you pay for. Get the most. Buy now for {price}\")\n",
    "elif price > 5:\n",
    "    print(f\"Good value. Great products. Buy now for {price}\")\n",
    "else:\n",
    "    print(f\"For less than a cup of coffee, buy now for {price}\")\n"
   ]
  },
  {
   "cell_type": "code",
   "execution_count": 23,
   "metadata": {},
   "outputs": [
    {
     "name": "stdout",
     "output_type": "stream",
     "text": [
      "Your best value is the 90s Comedy DVD for only 2.99\n"
     ]
    }
   ],
   "source": [
    "# D. Given this list of products, use a conditional to figure out which has the lower price.\n",
    "#.   Print a message saying \"Your best value is the _____ for only ______\"\n",
    "#.   Fill in the blanks with the name and price of the cheaper item, respectively\n",
    "bargain_bin = [\n",
    "    {\"name\": \"90s Comedy DVD\", \"price\": 2.99},\n",
    "    {\"name\": \"80s Drama DVD\", \"price\": 3.99}\n",
    "]\n",
    "\n",
    "#set dummy variables\n",
    "piece_1 = bargain_bin[0][\"price\"]\n",
    "piece_2 = bargain_bin[1][\"price\"]\n",
    "\n",
    "name_1 = bargain_bin[0][\"name\"]\n",
    "name_2 = bargain_bin[1][\"name\"]\n",
    "\n",
    "differnce = piece_1 - piece_2\n",
    "\n",
    "if differnce > 0:\n",
    "    print(f\"Your best value is the {name_2} for only {piece_2}\")\n",
    "else:\n",
    "    print(f\"Your best value is the {name_1} for only {piece_1}\")\n",
    "        "
   ]
  },
  {
   "cell_type": "code",
   "execution_count": null,
   "metadata": {},
   "outputs": [],
   "source": [
    "# 3.2 Complex Conditions"
   ]
  },
  {
   "cell_type": "code",
   "execution_count": 27,
   "metadata": {},
   "outputs": [
    {
     "name": "stdout",
     "output_type": "stream",
     "text": [
      "b is not a vowel\n"
     ]
    }
   ],
   "source": [
    "# A. Write a conditional that determines whether the letter is a vowel\n",
    "#.   Print a message stating \"___ is a vowel\" or \"___ is not a vowel\"\n",
    "letter = \"b\"\n",
    "\n",
    "vowels = [\"a\", \"e\", \"i\", \"o\", \"u\", \"A\", \"E\", \"I\", \"O\", \"U\"]\n",
    "\n",
    "for let in letter:\n",
    "    if let in vowels:\n",
    "        print(f\"{letter} is a vowel\")\n",
    "    else:\n",
    "        print(f\"{letter} is not a vowel\")\n",
    "\n",
    "\n",
    "        \n"
   ]
  },
  {
   "cell_type": "code",
   "execution_count": 35,
   "metadata": {},
   "outputs": [
    {
     "name": "stdout",
     "output_type": "stream",
     "text": [
      "player won\n"
     ]
    }
   ],
   "source": [
    "# B. Determine whether the player beat the computer at rock, paper, scissors\n",
    "#    As a reminder, \"rock\" beats \"paper\", \"paper\" beats \"scissors\", and \"scissors\" beats \"rock\"\n",
    "#.   Print a message saying whether the player won, lost, or tied\n",
    "player_choice = \"paper\"\n",
    "computer_choice = \"rock\"\n",
    "\n",
    "#choice paper\n",
    "if player_choice[0] == \"p\" and computer_choice[0] == \"s\":\n",
    "    print(\"player lost\")\n",
    "elif player_choice[0] == \"p\" and computer_choice[0] == \"r\":\n",
    "    print(\"player won\")\n",
    "elif player_choice[0] == \"p\" and computer_choice[0] == \"p\":\n",
    "    print(\"player tied\")\n",
    "#choice rock\n",
    "elif player_choice[0] == \"r\" and computer_choice[0] == \"s\":\n",
    "    print(\"player won\")\n",
    "elif player_choice[0] == \"r\" and computer_choice[0] == \"r\":\n",
    "    print(\"player tied\")\n",
    "elif player_choice[0] == \"r\" and computer_choice[0] == \"p\":\n",
    "    print(\"player lost\")\n",
    "#choice scissors\n",
    "if player_choice[0] == \"s\" and computer_choice[0] == \"s\":\n",
    "    print(\"player tied\")\n",
    "elif player_choice[0] == \"s\" and computer_choice[0] == \"r\":\n",
    "    print(\"player lost\")\n",
    "elif player_choice[0] == \"s\" and computer_choice[0] == \"p\":\n",
    "    print(\"player won\")"
   ]
  },
  {
   "cell_type": "code",
   "execution_count": 41,
   "metadata": {},
   "outputs": [
    {
     "name": "stdout",
     "output_type": "stream",
     "text": [
      "scalene\n"
     ]
    }
   ],
   "source": [
    "# C. Write the code that determines if the triangle is:\n",
    "#      equalateral - all three sides are equal in length\n",
    "#      scalene - all three sides are unequal in length\n",
    "#      isosceles - two sides are the same length\n",
    "side_a = 7\n",
    "side_b = 6\n",
    "side_c = 5\n",
    "\n",
    "if side_a == side_b and side_a == side_c:\n",
    "    print(\"equilateral\")\n",
    "elif side_a == side_b or side_a == side_c:\n",
    "    print(\"isosceles\")\n",
    "else:\n",
    "    print(\"scalene\")\n",
    "\n"
   ]
  },
  {
   "cell_type": "code",
   "execution_count": 53,
   "metadata": {},
   "outputs": [
    {
     "name": "stdout",
     "output_type": "stream",
     "text": [
      "Summer\n"
     ]
    }
   ],
   "source": [
    "# D. Calculate what season it is based upon this chart:\n",
    "#      Dec 21 - Mar 19: Winter   \n",
    "#      Mar 20 - Jun 20: Spring\n",
    "#      Jun 21 - Sep 21: Summer\n",
    "#      Sep 22 - Dec 20: Fall\n",
    "# Print the result as follows:\n",
    "#      <Mmm> <dd> is in <season> \n",
    "month = \"Jul\" #sep\n",
    "day = 25\n",
    "\n",
    "#dummy variables\n",
    "winter = [\"Dec\", \"Jan\", \"Feb\", \"Mar\"]\n",
    "spring = [\"Mar\", \"Apr\", \"May\", \"Jun\"]\n",
    "summer = [\"Jul\", \"Aug\", \"Sep\"]\n",
    "fall = [\"Sep\", \"Oct\", \"Nov\", \"Dec\"]\n",
    "\n",
    "\n",
    "    #check winter\n",
    "for mon in winter:\n",
    "    if mon == month:\n",
    "        if mon == \"Dec\":\n",
    "            if day < 21:\n",
    "                break\n",
    "            else:\n",
    "                print(\"Winter\")\n",
    "        elif mon == \"Mar\":\n",
    "            if day > 19:\n",
    "                break\n",
    "            else:\n",
    "                print(\"Winter\")\n",
    "        else:       \n",
    "            print(\"Winter\")\n",
    "    #check spring\n",
    "for mon in spring:\n",
    "    if mon == month:\n",
    "        if mon == \"Mar\":\n",
    "            if day < 20:\n",
    "                break\n",
    "            else:\n",
    "                print(\"Spring\")\n",
    "        elif mon == \"Jun\":\n",
    "            if day > 20:\n",
    "                break\n",
    "            else:\n",
    "                print(\"Spring\") \n",
    "        else:      \n",
    "            print(\"Spring\")\n",
    "    #check summer\n",
    "for mon in summer:\n",
    "    if mon == month:\n",
    "        if mon == \"Jun\":\n",
    "            if day < 21:\n",
    "                break\n",
    "            else:\n",
    "                print(\"Summer\")\n",
    "        elif mon == \"Sep\":\n",
    "            if day > 21:\n",
    "                break\n",
    "            else:\n",
    "                print(\"Summer\") \n",
    "        else:      \n",
    "            print(\"Summer\")\n",
    "    #check fall\n",
    "for mon in fall:\n",
    "    if mon == month:\n",
    "        if mon == \"Sep\":\n",
    "            if day < 22:\n",
    "                break\n",
    "            else:\n",
    "                print(\"Fall\")\n",
    "        elif mon == \"dec\":\n",
    "            if day > 20:\n",
    "                break\n",
    "            else:\n",
    "                print(\"Fall\") \n",
    "        else:      \n",
    "            print(\"Fall\")\n",
    "\n"
   ]
  },
  {
   "cell_type": "code",
   "execution_count": null,
   "metadata": {},
   "outputs": [],
   "source": [
    "# E. The Farmer's Boat\n",
    "boat = {\n",
    "    \"has_fox\": True,\n",
    "    \"has_chicken\": False,\n",
    "    \"has_grain\": True\n",
    "}\n",
    "# 1. If all three properties are true, print \"The boat was too heavy and sank\"\n",
    "# 2. If the boat's has_fox and has_chicken properties are true, print \"The fox ate the chicken\" \n",
    "# 3. If the boat's has_chicken and has_grain propertes are true, print \"The chicken ate the grain\"\n",
    "# 4. If none of them are true, print \"The boat sank from disuse\"\n",
    "# 5. Otherwise, print \"The boat is in a valid, productive state. Go boat!\"\n",
    "#sss\n"
   ]
  }
 ],
 "metadata": {
  "kernelspec": {
   "display_name": "Python 3",
   "language": "python",
   "name": "python3"
  },
  "language_info": {
   "codemirror_mode": {
    "name": "ipython",
    "version": 3
   },
   "file_extension": ".py",
   "mimetype": "text/x-python",
   "name": "python",
   "nbconvert_exporter": "python",
   "pygments_lexer": "ipython3",
   "version": "3.7.6"
  }
 },
 "nbformat": 4,
 "nbformat_minor": 4
}
