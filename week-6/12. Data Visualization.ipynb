{
 "cells": [
  {
   "cell_type": "code",
   "execution_count": 1,
   "metadata": {},
   "outputs": [],
   "source": [
    "import pandas as pd\n",
    "import numpy as np\n",
    "import matplotlib.pyplot as plt\n",
    "\n",
    "# set the plots to display in the Jupyter notebook\n",
    "%matplotlib inline"
   ]
  },
  {
   "cell_type": "code",
   "execution_count": 7,
   "metadata": {},
   "outputs": [
    {
     "data": {
      "text/html": [
       "<div>\n",
       "<style scoped>\n",
       "    .dataframe tbody tr th:only-of-type {\n",
       "        vertical-align: middle;\n",
       "    }\n",
       "\n",
       "    .dataframe tbody tr th {\n",
       "        vertical-align: top;\n",
       "    }\n",
       "\n",
       "    .dataframe thead th {\n",
       "        text-align: right;\n",
       "    }\n",
       "</style>\n",
       "<table border=\"1\" class=\"dataframe\">\n",
       "  <thead>\n",
       "    <tr style=\"text-align: right;\">\n",
       "      <th></th>\n",
       "      <th>date</th>\n",
       "      <th>home_team</th>\n",
       "      <th>away_team</th>\n",
       "      <th>home_score</th>\n",
       "      <th>away_score</th>\n",
       "      <th>tournament</th>\n",
       "      <th>city</th>\n",
       "      <th>country</th>\n",
       "      <th>neutral</th>\n",
       "    </tr>\n",
       "  </thead>\n",
       "  <tbody>\n",
       "    <tr>\n",
       "      <th>0</th>\n",
       "      <td>1872-11-30</td>\n",
       "      <td>Scotland</td>\n",
       "      <td>England</td>\n",
       "      <td>0</td>\n",
       "      <td>0</td>\n",
       "      <td>Friendly</td>\n",
       "      <td>Glasgow</td>\n",
       "      <td>Scotland</td>\n",
       "      <td>False</td>\n",
       "    </tr>\n",
       "    <tr>\n",
       "      <th>1</th>\n",
       "      <td>1873-03-08</td>\n",
       "      <td>England</td>\n",
       "      <td>Scotland</td>\n",
       "      <td>4</td>\n",
       "      <td>2</td>\n",
       "      <td>Friendly</td>\n",
       "      <td>London</td>\n",
       "      <td>England</td>\n",
       "      <td>False</td>\n",
       "    </tr>\n",
       "    <tr>\n",
       "      <th>2</th>\n",
       "      <td>1874-03-07</td>\n",
       "      <td>Scotland</td>\n",
       "      <td>England</td>\n",
       "      <td>2</td>\n",
       "      <td>1</td>\n",
       "      <td>Friendly</td>\n",
       "      <td>Glasgow</td>\n",
       "      <td>Scotland</td>\n",
       "      <td>False</td>\n",
       "    </tr>\n",
       "    <tr>\n",
       "      <th>3</th>\n",
       "      <td>1875-03-06</td>\n",
       "      <td>England</td>\n",
       "      <td>Scotland</td>\n",
       "      <td>2</td>\n",
       "      <td>2</td>\n",
       "      <td>Friendly</td>\n",
       "      <td>London</td>\n",
       "      <td>England</td>\n",
       "      <td>False</td>\n",
       "    </tr>\n",
       "    <tr>\n",
       "      <th>4</th>\n",
       "      <td>1876-03-04</td>\n",
       "      <td>Scotland</td>\n",
       "      <td>England</td>\n",
       "      <td>3</td>\n",
       "      <td>0</td>\n",
       "      <td>Friendly</td>\n",
       "      <td>Glasgow</td>\n",
       "      <td>Scotland</td>\n",
       "      <td>False</td>\n",
       "    </tr>\n",
       "    <tr>\n",
       "      <th>...</th>\n",
       "      <td>...</td>\n",
       "      <td>...</td>\n",
       "      <td>...</td>\n",
       "      <td>...</td>\n",
       "      <td>...</td>\n",
       "      <td>...</td>\n",
       "      <td>...</td>\n",
       "      <td>...</td>\n",
       "      <td>...</td>\n",
       "    </tr>\n",
       "    <tr>\n",
       "      <th>39663</th>\n",
       "      <td>2018-07-05</td>\n",
       "      <td>Malaysia</td>\n",
       "      <td>Fiji</td>\n",
       "      <td>1</td>\n",
       "      <td>0</td>\n",
       "      <td>Friendly</td>\n",
       "      <td>Kuala Lumpur</td>\n",
       "      <td>Malaysia</td>\n",
       "      <td>False</td>\n",
       "    </tr>\n",
       "    <tr>\n",
       "      <th>39664</th>\n",
       "      <td>2018-07-06</td>\n",
       "      <td>Uruguay</td>\n",
       "      <td>France</td>\n",
       "      <td>0</td>\n",
       "      <td>2</td>\n",
       "      <td>FIFA World Cup</td>\n",
       "      <td>Nizhny Novgorod</td>\n",
       "      <td>Russia</td>\n",
       "      <td>True</td>\n",
       "    </tr>\n",
       "    <tr>\n",
       "      <th>39665</th>\n",
       "      <td>2018-07-06</td>\n",
       "      <td>Brazil</td>\n",
       "      <td>Belgium</td>\n",
       "      <td>1</td>\n",
       "      <td>2</td>\n",
       "      <td>FIFA World Cup</td>\n",
       "      <td>Kazan</td>\n",
       "      <td>Russia</td>\n",
       "      <td>True</td>\n",
       "    </tr>\n",
       "    <tr>\n",
       "      <th>39666</th>\n",
       "      <td>2018-07-07</td>\n",
       "      <td>Sweden</td>\n",
       "      <td>England</td>\n",
       "      <td>0</td>\n",
       "      <td>2</td>\n",
       "      <td>FIFA World Cup</td>\n",
       "      <td>Samara</td>\n",
       "      <td>Russia</td>\n",
       "      <td>True</td>\n",
       "    </tr>\n",
       "    <tr>\n",
       "      <th>39667</th>\n",
       "      <td>2018-07-07</td>\n",
       "      <td>Russia</td>\n",
       "      <td>Croatia</td>\n",
       "      <td>2</td>\n",
       "      <td>2</td>\n",
       "      <td>FIFA World Cup</td>\n",
       "      <td>Sochi</td>\n",
       "      <td>Russia</td>\n",
       "      <td>False</td>\n",
       "    </tr>\n",
       "  </tbody>\n",
       "</table>\n",
       "<p>39668 rows × 9 columns</p>\n",
       "</div>"
      ],
      "text/plain": [
       "             date home_team away_team  home_score  away_score      tournament  \\\n",
       "0      1872-11-30  Scotland   England           0           0        Friendly   \n",
       "1      1873-03-08   England  Scotland           4           2        Friendly   \n",
       "2      1874-03-07  Scotland   England           2           1        Friendly   \n",
       "3      1875-03-06   England  Scotland           2           2        Friendly   \n",
       "4      1876-03-04  Scotland   England           3           0        Friendly   \n",
       "...           ...       ...       ...         ...         ...             ...   \n",
       "39663  2018-07-05  Malaysia      Fiji           1           0        Friendly   \n",
       "39664  2018-07-06   Uruguay    France           0           2  FIFA World Cup   \n",
       "39665  2018-07-06    Brazil   Belgium           1           2  FIFA World Cup   \n",
       "39666  2018-07-07    Sweden   England           0           2  FIFA World Cup   \n",
       "39667  2018-07-07    Russia   Croatia           2           2  FIFA World Cup   \n",
       "\n",
       "                  city   country  neutral  \n",
       "0              Glasgow  Scotland    False  \n",
       "1               London   England    False  \n",
       "2              Glasgow  Scotland    False  \n",
       "3               London   England    False  \n",
       "4              Glasgow  Scotland    False  \n",
       "...                ...       ...      ...  \n",
       "39663     Kuala Lumpur  Malaysia    False  \n",
       "39664  Nizhny Novgorod    Russia     True  \n",
       "39665            Kazan    Russia     True  \n",
       "39666           Samara    Russia     True  \n",
       "39667            Sochi    Russia    False  \n",
       "\n",
       "[39668 rows x 9 columns]"
      ]
     },
     "execution_count": 7,
     "metadata": {},
     "output_type": "execute_result"
    }
   ],
   "source": [
    "# 9.1 Line Plot\n",
    "\n",
    "# A. Make a dataframe called foot using the \"./international_football_results.csv\" file\n",
    "#    Perform a few exploratory data analysis operations before working with the data set\n",
    "\n",
    "# We'll use the .to_datetime method and .dt.year property to set the \"year\" column from a string to an integer\n",
    "\n",
    "df = pd.read_csv(\"international_football_results.csv\")\n",
    "\n",
    "data = pd.DataFrame(df)\n",
    "\n",
    "data.head(-1)\n"
   ]
  },
  {
   "cell_type": "code",
   "execution_count": 17,
   "metadata": {},
   "outputs": [
    {
     "data": {
      "text/plain": [
       "2008    1087\n",
       "2011    1077\n",
       "2004    1059\n",
       "2000    1022\n",
       "2001    1014\n",
       "        ... \n",
       "1878       2\n",
       "1874       1\n",
       "1873       1\n",
       "1875       1\n",
       "1872       1\n",
       "Name: date, Length: 147, dtype: int64"
      ]
     },
     "execution_count": 17,
     "metadata": {},
     "output_type": "execute_result"
    }
   ],
   "source": [
    "# B. Let's chart how many games occured in each year:\n",
    "\n",
    "#year = data[(data[\"Type\"] == \"Master Card\") & (data[\"date\"].apply(lambda x: x[0:3]) >= \"2021\")]\n",
    "#data[(data[\"date\"].apply(lambda x: x[0:4]) == \"1872\")]\n",
    "\n",
    "#data.value_counts(\"date\", \"country\")\n",
    "\n",
    "\n",
    "data_date = data[\"date\"].apply(lambda x: x[0:4])\n",
    "#print(data_date)\n",
    "data_date.value_counts()\n",
    "\n"
   ]
  },
  {
   "cell_type": "code",
   "execution_count": 19,
   "metadata": {},
   "outputs": [
    {
     "data": {
      "text/plain": [
       "2008    1087\n",
       "2011    1077\n",
       "2004    1059\n",
       "2000    1022\n",
       "2001    1014\n",
       "        ... \n",
       "1878       2\n",
       "1874       1\n",
       "1873       1\n",
       "1875       1\n",
       "1872       1\n",
       "Name: date, Length: 147, dtype: int64"
      ]
     },
     "execution_count": 19,
     "metadata": {},
     "output_type": "execute_result"
    }
   ],
   "source": [
    "# The years are out of order! Fortunately, we can sort our column by its index with sort_index()\n",
    "data_date.sort_index()\n",
    "data_date.value_counts() #TODO reverse the counting from min to max\n"
   ]
  },
  {
   "cell_type": "code",
   "execution_count": null,
   "metadata": {},
   "outputs": [],
   "source": [
    "# Finally, we're ready to plot the change over time with .plot()\n"
   ]
  },
  {
   "cell_type": "code",
   "execution_count": null,
   "metadata": {},
   "outputs": [],
   "source": [
    "# 9.2 Bar Charts\n",
    "# A. Let's see how many games each country played, represented as a bar chart\n"
   ]
  },
  {
   "cell_type": "code",
   "execution_count": null,
   "metadata": {},
   "outputs": [],
   "source": [
    "# B. Now let's plot the occurence of specific scores for the home team\n"
   ]
  },
  {
   "cell_type": "code",
   "execution_count": null,
   "metadata": {},
   "outputs": [],
   "source": [
    "# C. Instead of sorting from highest to lowest value, let's sort the x axis in ascending order\n"
   ]
  },
  {
   "cell_type": "code",
   "execution_count": null,
   "metadata": {},
   "outputs": [],
   "source": [
    "# BONUS: Compare the home_score and away_score value counts to analyze home field advantage\n",
    "# You will need to use the .apply method to use value_counts on each column of a dataframe\n"
   ]
  },
  {
   "cell_type": "code",
   "execution_count": null,
   "metadata": {},
   "outputs": [],
   "source": [
    "# 9.3 Histograms\n",
    "# A. Let's start with a new dataset. Create a dataframe called choc from the './chocolate_reviews.csv' file\n",
    "#    Inspect the data using some exploratory data analysis methods\n"
   ]
  },
  {
   "cell_type": "code",
   "execution_count": null,
   "metadata": {},
   "outputs": [],
   "source": [
    "# B. Now, let's explore the distribution of ratings\n",
    "#    i. Start by plotting the Rating column in a histogram\n"
   ]
  },
  {
   "cell_type": "code",
   "execution_count": null,
   "metadata": {},
   "outputs": [],
   "source": [
    "#    ii. Looking good! Let's see how granular we can get\n",
    "#        Modify the number of bins to change how ranges are distributed\n"
   ]
  },
  {
   "cell_type": "code",
   "execution_count": null,
   "metadata": {},
   "outputs": [],
   "source": [
    "#    iii. Now, let's add some descriptive labels to our chart using matplotlib\n"
   ]
  },
  {
   "cell_type": "code",
   "execution_count": null,
   "metadata": {
    "scrolled": false
   },
   "outputs": [],
   "source": [
    "# 9.4 Scatter Plots\n",
    "# A. Is there a connection between Review Date and Rating? Plot them with a scatter plot\n",
    "\n",
    "# Why is this graph not so helpful?"
   ]
  },
  {
   "cell_type": "code",
   "execution_count": null,
   "metadata": {},
   "outputs": [],
   "source": [
    "# B. Explore this new dataframe, then scatter plot correlation between Total Volume and AveragePrice\n"
   ]
  },
  {
   "cell_type": "code",
   "execution_count": null,
   "metadata": {},
   "outputs": [],
   "source": [
    "# 9.5 Visualizations to Hypotheses\n",
    "# Create visualizations around any of the above datasets or our superstore datasets\n",
    "# For at least one of the visualizations, attach a hypothesis or specific claim the chart supports"
   ]
  }
 ],
 "metadata": {
  "kernelspec": {
   "display_name": "Python 3.9.12 ('base')",
   "language": "python",
   "name": "python3"
  },
  "language_info": {
   "codemirror_mode": {
    "name": "ipython",
    "version": 3
   },
   "file_extension": ".py",
   "mimetype": "text/x-python",
   "name": "python",
   "nbconvert_exporter": "python",
   "pygments_lexer": "ipython3",
   "version": "3.9.12"
  },
  "vscode": {
   "interpreter": {
    "hash": "d0d70ec63e48daca6a80a8f89659f2083bfc1275bfb9d7f3c65e2756bbb00474"
   }
  }
 },
 "nbformat": 4,
 "nbformat_minor": 4
}
