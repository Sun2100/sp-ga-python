{
 "cells": [
  {
   "cell_type": "code",
   "execution_count": null,
   "metadata": {},
   "outputs": [],
   "source": [
    "# 5.1 Functions"
   ]
  },
  {
   "cell_type": "code",
   "execution_count": 1,
   "metadata": {},
   "outputs": [
    {
     "name": "stdout",
     "output_type": "stream",
     "text": [
      "Hello, Son.\n"
     ]
    }
   ],
   "source": [
    "# A. Write a function that accepts one parameter, name\n",
    "#    The function should print the message \"Hello, _____.\" filling in the blank with the name\n",
    "\n",
    "def print_hello(name):\n",
    "    print(f\"Hello, {name}.\")\n",
    "\n",
    "name = \"Son\"\n",
    "\n",
    "print_hello(name)"
   ]
  },
  {
   "cell_type": "code",
   "execution_count": 3,
   "metadata": {},
   "outputs": [
    {
     "data": {
      "text/plain": [
       "False"
      ]
     },
     "execution_count": 3,
     "metadata": {},
     "output_type": "execute_result"
    }
   ],
   "source": [
    "# B. Write a function that accepts one parameter, a number\n",
    "#    The function should return true or false depending on whether the number is even\n",
    "\n",
    "def checker(number):\n",
    "    if number % 2 == 0:\n",
    "        return True\n",
    "    else:\n",
    "        return False\n",
    "\n",
    "num = 3\n",
    "\n",
    "checker(num)"
   ]
  },
  {
   "cell_type": "code",
   "execution_count": 4,
   "metadata": {},
   "outputs": [
    {
     "data": {
      "text/plain": [
       "15"
      ]
     },
     "execution_count": 4,
     "metadata": {},
     "output_type": "execute_result"
    }
   ],
   "source": [
    "# C. Write a function that accepts one parameter, a list\n",
    "#    The function should return the sum total of all numbers in the list, using a loop\n",
    "\n",
    "a_list = [1, 2, 3, 4, 5]\n",
    "\n",
    "def total_sum(my_list):\n",
    "    sum = 0\n",
    "    for num in my_list:\n",
    "        sum += num\n",
    "    return sum\n",
    "\n",
    "total_sum(a_list)"
   ]
  },
  {
   "cell_type": "code",
   "execution_count": 6,
   "metadata": {},
   "outputs": [
    {
     "name": "stdout",
     "output_type": "stream",
     "text": [
      "Introducing, Son Phatpanichot, The Hollow!\n"
     ]
    }
   ],
   "source": [
    "# D. Write a function that accepts one parameter, a dictionary\n",
    "#    The function should print the message \"Introducing ______ ______, ________!\"\n",
    "#    Fill in the blanks with the \"first_name\", \"last_name\", and \"title\" properties of the dictionary\n",
    "\n",
    "one_dictionary = {\"first_name\": \"Son\", \"last_name\": \"Phatpanichot\", \"title\": \"The Hollow\" }\n",
    "\n",
    "def intro(a_dictionary):\n",
    "    front = a_dictionary[\"first_name\"]\n",
    "    back = a_dictionary[\"last_name\"]\n",
    "    title = a_dictionary[\"title\"]\n",
    "    print(f\"Introducing, {front} {back}, {title}!\")\n",
    "\n",
    "intro(one_dictionary)\n"
   ]
  },
  {
   "cell_type": "code",
   "execution_count": null,
   "metadata": {},
   "outputs": [],
   "source": [
    "# 5.2 Problem-Solving Functions"
   ]
  },
  {
   "cell_type": "code",
   "execution_count": 8,
   "metadata": {},
   "outputs": [
    {
     "data": {
      "text/plain": [
       "'ehijklmno'"
      ]
     },
     "execution_count": 8,
     "metadata": {},
     "output_type": "execute_result"
    }
   ],
   "source": [
    "# A. Find the longest string in a given list of strings\n",
    "string_list = [\"abc\", \"b\", \"cd\", \"defg\", \"ehijklmno\"]\n",
    "\n",
    "def find_longest(a_list):\n",
    "    temp = 0\n",
    "\n",
    "    for mem in a_list:\n",
    "        lengt = len(mem)\n",
    "        if lengt >= temp:\n",
    "            temp = lengt\n",
    "            result = mem\n",
    "    \n",
    "    return result\n",
    "\n",
    "        \n",
    "\n",
    "find_longest(string_list)\n",
    "            \n",
    "\n",
    "\n",
    "\n"
   ]
  },
  {
   "cell_type": "code",
   "execution_count": 11,
   "metadata": {},
   "outputs": [
    {
     "name": "stdout",
     "output_type": "stream",
     "text": [
      "found the target, e, in the list\n"
     ]
    }
   ],
   "source": [
    "# B. Determine whether a given list contains a given value\n",
    "another_list = [\"a\", \"b\", \"c\", \"d\", \"e\"]\n",
    "\n",
    "def find_value(some_list, target):\n",
    "    for mem in some_list:\n",
    "        if mem == target:\n",
    "            print(f\"found the target, {target}, in the list\")\n",
    "\n",
    "\n",
    "a_target = \"e\"\n",
    "\n",
    "find_value(another_list, a_target)"
   ]
  },
  {
   "cell_type": "code",
   "execution_count": 12,
   "metadata": {},
   "outputs": [
    {
     "data": {
      "text/plain": [
       "4"
      ]
     },
     "execution_count": 12,
     "metadata": {},
     "output_type": "execute_result"
    }
   ],
   "source": [
    "# C. Count how many times a given string contains a given letter\n",
    "another_list = [\"a\", \"b\", \"c\", \"d\", \"e\", \"a\", \"a\", \"c\", \"a\"]\n",
    "\n",
    "def count_value(some_list, target):\n",
    "    counter = 0\n",
    "    for mem in some_list:\n",
    "        if mem == target:\n",
    "            counter += 1\n",
    "\n",
    "    return counter\n",
    "\n",
    "\n",
    "another_target = \"a\"\n",
    "\n",
    "count_value(another_list, another_target)\n"
   ]
  },
  {
   "cell_type": "code",
   "execution_count": 14,
   "metadata": {},
   "outputs": [
    {
     "name": "stdout",
     "output_type": "stream",
     "text": [
      "('a', 4)\n"
     ]
    }
   ],
   "source": [
    "# D. Find the most common letter in a given string, and use the previous function in your answer\n",
    "\n",
    "import collections\n",
    "\n",
    "s =  \"arabamagold\"\n",
    "print(collections.Counter(s).most_common(1)[0])\n",
    "\n",
    "#d = collections.defaultdict(int)\n",
    "#for c in s:\n",
    "#    d[c] += 1\n",
    "#print(sorted(d.items(), key=lambda x: x[1], reverse=True)[0])\n",
    "    \n",
    "\n"
   ]
  },
  {
   "cell_type": "code",
   "execution_count": 17,
   "metadata": {},
   "outputs": [
    {
     "name": "stdout",
     "output_type": "stream",
     "text": [
      " the area of the triangle is 28.0 unit squared\n"
     ]
    }
   ],
   "source": [
    "# E. Find the area of a triangle given its length and height as parameters\n",
    "\n",
    "def area_tri(len, hei):\n",
    "    area = float(len*hei*0.5)\n",
    "\n",
    "    print(f\" the area of the triangle is {area} unit squared\")\n",
    "\n",
    "class Triangle:\n",
    "    def __init__(self, length, height):\n",
    "        self.lenght = length\n",
    "        self.height = height\n",
    "\n",
    "t = Triangle(7, 8)\n",
    "area_tri(t.lenght, t.height)\n"
   ]
  }
 ],
 "metadata": {
  "kernelspec": {
   "display_name": "Python 3.9.12 ('base')",
   "language": "python",
   "name": "python3"
  },
  "language_info": {
   "codemirror_mode": {
    "name": "ipython",
    "version": 3
   },
   "file_extension": ".py",
   "mimetype": "text/x-python",
   "name": "python",
   "nbconvert_exporter": "python",
   "pygments_lexer": "ipython3",
   "version": "3.9.12"
  },
  "vscode": {
   "interpreter": {
    "hash": "d0d70ec63e48daca6a80a8f89659f2083bfc1275bfb9d7f3c65e2756bbb00474"
   }
  }
 },
 "nbformat": 4,
 "nbformat_minor": 4
}
