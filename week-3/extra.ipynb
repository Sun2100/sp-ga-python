{
 "cells": [
  {
   "cell_type": "code",
   "execution_count": 12,
   "metadata": {},
   "outputs": [
    {
     "name": "stdout",
     "output_type": "stream",
     "text": [
      "16.85\n"
     ]
    }
   ],
   "source": [
    "#use the playlist to write these functions\n",
    "playlist = [\n",
    "    {\n",
    "        'title': 'Bodak Yellow',\n",
    "        'genre': 'Pop',\n",
    "        'artiste': 'Cardi B',\n",
    "        'year': '2017',\n",
    "        'length': 3.25\n",
    "    },\n",
    "    {\n",
    "        'title': 'Shake it Off',\n",
    "        'genre': 'Pop',\n",
    "        'artiste': 'Taylor Swift',\n",
    "        'year': '2016',\n",
    "        'length': 3.15\n",
    "    },\n",
    "    {\n",
    "        'title': 'Through the Night',\n",
    "        'genre': 'Pop',\n",
    "        'artiste': 'Travis Scott',\n",
    "        'year': '2016',\n",
    "        'length': 4.50\n",
    "    },\n",
    "    {\n",
    "        'title': 'Likes',\n",
    "        'genre': 'Reggae',\n",
    "        'artiste': 'Chronixx',\n",
    "        'year': '2017',\n",
    "        'length': 3.45\n",
    "    },\n",
    "    {\n",
    "        'title': 'From Time',\n",
    "        'genre': 'Pop',\n",
    "        'artiste': 'Drake, Jhene Aiko',\n",
    "        'year': '2013',\n",
    "        'length': 2.50\n",
    "    }\n",
    "]\n",
    "\n",
    "#1. write a function that returns a list of the artists names\n",
    "\n",
    "def find_artist():\n",
    "    new_list = []\n",
    "    for song in playlist:\n",
    "        #print(song)\n",
    "        new_list.append(song[\"artiste\"]) \n",
    "    return new_list\n",
    "\n",
    "find_artist()\n",
    "            \n",
    "\n",
    "#2. write a funtion that returns the longest running song\n",
    "\n",
    "def get_longest_song():\n",
    "    longest_run_time = 0\n",
    "    longest_running_song = \"\"\n",
    "\n",
    "    for song in playlist:\n",
    "        if song[\"length\"] > longest_run_time:\n",
    "            #update\n",
    "            longest_run_time = song[\"length\"]\n",
    "            longest_running_song = song[\"title\"]\n",
    "\n",
    "    return longest_running_song\n",
    "\n",
    "get_longest_song()\n",
    "#def find_longest():\n",
    "\n",
    "#3. write a funtion that returns the total running time of the playlist\n",
    "\n",
    "def total_time():\n",
    "    time = []\n",
    "    total = 0\n",
    "    for songs in playlist: #get to playlist[i]\n",
    "        time.append(songs[\"length\"])\n",
    "    for item in time:\n",
    "        total += item\n",
    "    print(total)\n",
    "\n",
    "total_time()\n"
   ]
  },
  {
   "cell_type": "code",
   "execution_count": 20,
   "metadata": {},
   "outputs": [
    {
     "data": {
      "text/plain": [
       "'(123) 456-789'"
      ]
     },
     "execution_count": 20,
     "metadata": {},
     "output_type": "execute_result"
    }
   ],
   "source": [
    "#codewars https://www.codewars.com/kata/525f50e3b73515a6db000b83/train/python\n",
    "\n",
    "#inputs(s) lists of integers, size 10 (0 - 9)\n",
    "\n",
    "#output -  string in phone number format: (xxx) xxx-xxxx\n",
    "\n",
    "#1. use variables to differentiate / categorize the inputs into 3 3 4 so 3 sets of strings\n",
    "\n",
    "#2. print out the output accordingly by manipulating the default of the print function \n",
    "\n",
    "\n",
    "def create_phone_number(n):\n",
    "    #slice and dice into parts\n",
    "    #print(n[0:3])\n",
    "\n",
    "    print(list(map(lambda a : str(a), n)))\n",
    "\n",
    "    #print(f \"({first})\", \"{second}\", \"-\", \"{third}\")\n",
    "\n",
    "\n",
    "n = [1, 2, 3, 4, 5, 6, 7, 8, 9]\n",
    "\n",
    "create_phone_number(n)\n",
    "\n",
    "k = [1, 2, 3, 4, 5, 6, 7, 8, 9]\n",
    "\n",
    "\n",
    "def create(m):\n",
    "    phone = \"(\"\n",
    "    for idx in range(len(m)):\n",
    "        if idx == 3:\n",
    "            phone += ') '\n",
    "        if idx == 6:\n",
    "            phone += '-'\n",
    "        phone += str(n[idx])\n",
    "\n",
    "    return phone\n",
    "\n",
    "create(k)"
   ]
  }
 ],
 "metadata": {
  "kernelspec": {
   "display_name": "Python 3.9.12 ('base')",
   "language": "python",
   "name": "python3"
  },
  "language_info": {
   "codemirror_mode": {
    "name": "ipython",
    "version": 3
   },
   "file_extension": ".py",
   "mimetype": "text/x-python",
   "name": "python",
   "nbconvert_exporter": "python",
   "pygments_lexer": "ipython3",
   "version": "3.9.12"
  },
  "orig_nbformat": 4,
  "vscode": {
   "interpreter": {
    "hash": "d0d70ec63e48daca6a80a8f89659f2083bfc1275bfb9d7f3c65e2756bbb00474"
   }
  }
 },
 "nbformat": 4,
 "nbformat_minor": 2
}
