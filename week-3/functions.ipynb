{
 "cells": [
  {
   "cell_type": "code",
   "execution_count": 1,
   "metadata": {},
   "outputs": [
    {
     "name": "stdout",
     "output_type": "stream",
     "text": [
      "hello\n"
     ]
    }
   ],
   "source": [
    "#def is required in front to defind a function\n",
    "\n",
    "def say_hello(): #defining the function say_hello\n",
    "    print(\"hello\")\n",
    "\n",
    "say_hello() #function called\n",
    "\n"
   ]
  },
  {
   "cell_type": "code",
   "execution_count": 4,
   "metadata": {},
   "outputs": [
    {
     "name": "stdout",
     "output_type": "stream",
     "text": [
      "hey there Son!\n"
     ]
    }
   ],
   "source": [
    "def say_hello_with_name(name):\n",
    "    print(f'hey there {name}!')\n",
    "say_hello_with_name(\"Son\")\n"
   ]
  },
  {
   "cell_type": "code",
   "execution_count": 10,
   "metadata": {},
   "outputs": [],
   "source": [
    "#functions most often return a value\n",
    "\n",
    "def add_two(num1, num2):\n",
    "    return num1 + num2\n",
    "\n",
    "add_two(add_two(2, 3), 10) #the result of a function can be used in another function. hence we use return\n",
    "\n",
    "def add_again(num3, num4):\n",
    "    answer = num3 + num4\n",
    "\n",
    "add_again(4,3)\n",
    "\n",
    "#print(answer)"
   ]
  },
  {
   "cell_type": "code",
   "execution_count": 16,
   "metadata": {},
   "outputs": [
    {
     "data": {
      "text/plain": [
       "20"
      ]
     },
     "execution_count": 16,
     "metadata": {},
     "output_type": "execute_result"
    }
   ],
   "source": [
    "#write a function to return the sum of the numbers in a list\n",
    "\n",
    "def sum_list(a_list):\n",
    "    total = 0\n",
    "    for num in a_list:\n",
    "        total += num\n",
    "\n",
    "    return total\n",
    "\n",
    "the_list = [1, 3, 4, 5]\n",
    "\n",
    "sum_list(the_list)\n",
    "\n",
    "sum_list([1, 2, 4, 6, 7])\n",
    "\n"
   ]
  },
  {
   "cell_type": "code",
   "execution_count": 20,
   "metadata": {},
   "outputs": [
    {
     "name": "stdout",
     "output_type": "stream",
     "text": [
      "False\n",
      "True\n"
     ]
    }
   ],
   "source": [
    "#write a function that has two parameters: a string, and a character\n",
    "#the function must return True if the character is in the string, Fasle otherwise\n",
    "\n",
    "def check_in_string(string, char ):\n",
    "    if char in string:\n",
    "        return True\n",
    "    return False\n",
    "\n",
    "\n",
    "#input_user = chr(input(\"enter something: \"))\n",
    "#input_string = [\"a\", \"e\", \"i\"]\n",
    "\n",
    "\n",
    "print(check_in_string(\"panama\", \"c\"))\n",
    "print(check_in_string(\"panama\", \"p\"))\n",
    "\n",
    "\n",
    "#functions that return boolean values are often named with \"is\" or \"has\"\n",
    "#as a prefix\n",
    "\n"
   ]
  },
  {
   "cell_type": "code",
   "execution_count": 25,
   "metadata": {},
   "outputs": [
    {
     "data": {
      "text/plain": [
       "[-1, -2]"
      ]
     },
     "execution_count": 25,
     "metadata": {},
     "output_type": "execute_result"
    }
   ],
   "source": [
    "#write a function that takes a list of numbers and returns a new list\n",
    "#with only the negative numbers, if there are no negative numbers\n",
    "#in the input list, we should return an empty list\n",
    "\n",
    "\n",
    "def create_neg_list(a_list):\n",
    "    num = 0\n",
    "    new_list = []\n",
    "    for num in a_list:\n",
    "        if num < 0 :\n",
    "            new = num\n",
    "            new_list.append(new)\n",
    "    return new_list\n",
    "\n",
    "        \n",
    "the_list = [1, 2, -1, -2]\n",
    "\n",
    "create_neg_list(the_list)"
   ]
  },
  {
   "cell_type": "code",
   "execution_count": 28,
   "metadata": {},
   "outputs": [
    {
     "name": "stdout",
     "output_type": "stream",
     "text": [
      "0\n",
      "10\n",
      "110\n"
     ]
    }
   ],
   "source": [
    "#how to write functions that can accept any number of inputs like the print function\n",
    "\n",
    "#use args\n",
    "\n",
    "def add(*args):\n",
    "    total = 0\n",
    "    for item in args:\n",
    "        total += item\n",
    "    \n",
    "    return total\n",
    "\n",
    "print(add())\n",
    "print(add(10))\n",
    "print(add(20, 40 , 50))\n"
   ]
  },
  {
   "cell_type": "code",
   "execution_count": 38,
   "metadata": {},
   "outputs": [
    {
     "name": "stdout",
     "output_type": "stream",
     "text": [
      "a = 10, b = 11\n",
      "x = 15, y = 21\n"
     ]
    }
   ],
   "source": [
    "#positional vs keyboard arguements\n",
    "\n",
    "def func(a, b):\n",
    "    print(f'a = {a}, b = {b}')\n",
    "\n",
    "\n",
    "func(10, 11)\n",
    "\n",
    "\n",
    "#we can define functions and then call them with arguements\n",
    "\n",
    "#x and y are keyword arguements and DEFAULT arguements\n",
    "#if you call x and y without assigning anything then x and y will be set to 0\n",
    "\n",
    "def bar(x = 0, y = 0):\n",
    "    print(f'x = {x}, y = {y}')\n",
    "\n",
    "bar(y = 21, x = 15)\n",
    "\n",
    "#print has default seperator as space. ,\n",
    "\n"
   ]
  },
  {
   "cell_type": "code",
   "execution_count": 35,
   "metadata": {},
   "outputs": [
    {
     "name": "stdout",
     "output_type": "stream",
     "text": [
      "Son...Phatpanichot Son\n"
     ]
    }
   ],
   "source": [
    "first_name = \"Son\"\n",
    "last_name = \"Phatpanichot\"\n",
    "\n",
    "print(first_name, last_name, sep=\"...\", end=\" \") #overwritten print default (space) with ...\n",
    "#overwritten the default end (new line) to just space\n",
    "print(first_name)\n"
   ]
  },
  {
   "cell_type": "code",
   "execution_count": 42,
   "metadata": {},
   "outputs": [
    {
     "name": "stdout",
     "output_type": "stream",
     "text": [
      "Son\n",
      "your_hobbies_are:  Hiking, Walking, Dreaming, \n",
      "John\n",
      "your_hobbies_are:  skiing, \n",
      "city = Toronto\n",
      "age = 30\n"
     ]
    }
   ],
   "source": [
    "#if we have positional, variable args and keyword args..\n",
    "#positional args MUST go first\n",
    "#variable args next\n",
    "#keyword args last\n",
    "\n",
    "\n",
    "def baz(name, *args, **kwargs): #**kwargs to write function with any number (works like a dictionary)\n",
    "    print(name)\n",
    "    hobbies_string = \"\"\n",
    "    for item in args:\n",
    "        hobbies_string += item + \", \"\n",
    "\n",
    "    print(\"your_hobbies_are: \", hobbies_string)\n",
    "\n",
    "    for key in kwargs:\n",
    "        print(f\"{key} = {kwargs[key]}\")\n",
    "\n",
    "\n",
    "\n",
    "\n",
    "baz(\"Son\", \"Hiking\", \"Walking\", \"Dreaming\")\n",
    "\n",
    "baz(\"John\", \"skiing\", city=\"Toronto\", age=30) #city and age are stored in kwargs\n",
    "\n",
    "\n"
   ]
  },
  {
   "cell_type": "code",
   "execution_count": 48,
   "metadata": {},
   "outputs": [
    {
     "name": "stdout",
     "output_type": "stream",
     "text": [
      "[{'title': 'From Time', 'genre': 'Pop', 'artiste': 'Drake, Jhene Aiko', 'year': '2013', 'length': 2.5}, {'title': 'Shake it Off', 'genre': 'Pop', 'artiste': 'Taylor Swift', 'year': '2016', 'length': 3.15}, {'title': 'Bodak Yellow', 'genre': 'Pop', 'artiste': 'Cardi B', 'year': '2017', 'length': 3.25}, {'title': 'Likes', 'genre': 'Reggae', 'artiste': 'Chronixx', 'year': '2017', 'length': 3.45}, {'title': 'Through the Night', 'genre': 'Pop', 'artiste': 'Travis Scott', 'year': '2016', 'length': 4.5}]\n"
     ]
    }
   ],
   "source": [
    "playlist = [\n",
    "    {\n",
    "        'title': 'Bodak Yellow',\n",
    "        'genre': 'Pop',\n",
    "        'artiste': 'Cardi B',\n",
    "        'year': '2017',\n",
    "        'length': 3.25\n",
    "    },\n",
    "    {\n",
    "        'title': 'Shake it Off',\n",
    "        'genre': 'Pop',\n",
    "        'artiste': 'Taylor Swift',\n",
    "        'year': '2016',\n",
    "        'length': 3.15\n",
    "    },\n",
    "    {\n",
    "        'title': 'Through the Night',\n",
    "        'genre': 'Pop',\n",
    "        'artiste': 'Travis Scott',\n",
    "        'year': '2016',\n",
    "        'length': 4.50\n",
    "    },\n",
    "    {\n",
    "        'title': 'Likes',\n",
    "        'genre': 'Reggae',\n",
    "        'artiste': 'Chronixx',\n",
    "        'year': '2017',\n",
    "        'length': 3.45\n",
    "    },\n",
    "    {\n",
    "        'title': 'From Time',\n",
    "        'genre': 'Pop',\n",
    "        'artiste': 'Drake, Jhene Aiko',\n",
    "        'year': '2013',\n",
    "        'length': 2.50\n",
    "    }\n",
    "]\n",
    "\n",
    "#Lambda functions\n",
    "#single lines, we don't need to call them repeatedly (only once)\n",
    "\n",
    "def add(a, b):\n",
    "    return a + b\n",
    "\n",
    "#as a lambda function\n",
    "add = lambda a, b : a + b\n",
    "\n",
    "#what if we want to sort this playlist\n",
    "\n",
    "nums = [-10, 5, 0, 1, 11, 4, 13, 25, 57, 2]\n",
    "\n",
    "#print(sorted(nums, reverse=True))\n",
    "\n",
    "\n",
    "\n",
    "#sorting strings\n",
    "movies = [\"Pirates of the Caribbean\", \"Captain America: Civil War\"]\n",
    "\n",
    "#print(sorted(movies))\n",
    "\n",
    "\n",
    "#********use lambda function to sort big lists*********\n",
    "\n",
    "print(sorted(playlist, key = lambda song : song[\"length\"]))\n",
    "#notice that the order of sorting is ordered based on the length of the songs\n",
    "\n",
    "#print(sorted(playlist, key = lambda song : song[\"length\"], reverse = True))\n",
    "\n",
    "people = [{\"name\": \"A\", \"age\": 25}, {\"name\": \"B\", \"age\": 4}]\n",
    "\n",
    "sorted()\n",
    "\n",
    "\n",
    "\n",
    "\n",
    "\n"
   ]
  }
 ],
 "metadata": {
  "kernelspec": {
   "display_name": "Python 3.9.12 ('base')",
   "language": "python",
   "name": "python3"
  },
  "language_info": {
   "codemirror_mode": {
    "name": "ipython",
    "version": 3
   },
   "file_extension": ".py",
   "mimetype": "text/x-python",
   "name": "python",
   "nbconvert_exporter": "python",
   "pygments_lexer": "ipython3",
   "version": "3.9.12"
  },
  "orig_nbformat": 4,
  "vscode": {
   "interpreter": {
    "hash": "d0d70ec63e48daca6a80a8f89659f2083bfc1275bfb9d7f3c65e2756bbb00474"
   }
  }
 },
 "nbformat": 4,
 "nbformat_minor": 2
}
