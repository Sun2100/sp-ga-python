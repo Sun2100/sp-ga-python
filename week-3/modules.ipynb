{
 "cells": [
  {
   "cell_type": "code",
   "execution_count": 6,
   "metadata": {},
   "outputs": [
    {
     "ename": "NameError",
     "evalue": "name 'greet' is not defined",
     "output_type": "error",
     "traceback": [
      "\u001b[0;31m---------------------------------------------------------------------------\u001b[0m",
      "\u001b[0;31mNameError\u001b[0m                                 Traceback (most recent call last)",
      "\u001b[1;32m/Users/sun/Desktop/pyth-15/week-3/modules.ipynb Cell 1'\u001b[0m in \u001b[0;36m<cell line: 7>\u001b[0;34m()\u001b[0m\n\u001b[1;32m      <a href='vscode-notebook-cell:/Users/sun/Desktop/pyth-15/week-3/modules.ipynb#ch0000000?line=1'>2</a>\u001b[0m \u001b[39mfrom\u001b[39;00m \u001b[39mmy_stuff\u001b[39;00m \u001b[39mimport\u001b[39;00m \u001b[39m*\u001b[39m \u001b[39m#import everything\u001b[39;00m\n\u001b[1;32m      <a href='vscode-notebook-cell:/Users/sun/Desktop/pyth-15/week-3/modules.ipynb#ch0000000?line=4'>5</a>\u001b[0m \u001b[39m#add(10, 20)\u001b[39;00m\n\u001b[0;32m----> <a href='vscode-notebook-cell:/Users/sun/Desktop/pyth-15/week-3/modules.ipynb#ch0000000?line=6'>7</a>\u001b[0m greet(\u001b[39m'\u001b[39m\u001b[39mSon\u001b[39m\u001b[39m'\u001b[39m)\n",
      "\u001b[0;31mNameError\u001b[0m: name 'greet' is not defined"
     ]
    }
   ],
   "source": [
    "#from my_stuff import add\n",
    "from my_stuff import * #import everything\n",
    "\n",
    "\n",
    "add(10, 20)\n",
    "\n",
    "greet('Son')\n",
    "\n",
    "\n",
    "\n"
   ]
  }
 ],
 "metadata": {
  "kernelspec": {
   "display_name": "Python 3.9.12 ('base')",
   "language": "python",
   "name": "python3"
  },
  "language_info": {
   "codemirror_mode": {
    "name": "ipython",
    "version": 3
   },
   "file_extension": ".py",
   "mimetype": "text/x-python",
   "name": "python",
   "nbconvert_exporter": "python",
   "pygments_lexer": "ipython3",
   "version": "3.9.12"
  },
  "orig_nbformat": 4,
  "vscode": {
   "interpreter": {
    "hash": "d0d70ec63e48daca6a80a8f89659f2083bfc1275bfb9d7f3c65e2756bbb00474"
   }
  }
 },
 "nbformat": 4,
 "nbformat_minor": 2
}
