{
 "cells": [
  {
   "cell_type": "code",
   "execution_count": 2,
   "metadata": {},
   "outputs": [
    {
     "name": "stdout",
     "output_type": "stream",
     "text": [
      "Dark World\n"
     ]
    }
   ],
   "source": [
    "print('Dark World')"
   ]
  },
  {
   "cell_type": "code",
   "execution_count": 8,
   "metadata": {},
   "outputs": [
    {
     "name": "stdout",
     "output_type": "stream",
     "text": [
      "Supadejh Phatpanichot\n",
      "hello world, my name is Supadejh Phatpanichot and I am 21 years old\n"
     ]
    }
   ],
   "source": [
    "#variables \n",
    "first_name = 'Supadejh' #string - any collection of characters enclosed in ''\n",
    "num = '12345' #string - since enclosed in quotations either ' or \"\"\n",
    "last_name = 'Phatpanichot'\n",
    "full_name = 'Supadejh Phatpanichot'\n",
    "age = 21\n",
    "print(first_name + ' ' + last_name)\n",
    "\n",
    "print('hello world, my name is', full_name,'and I am', age, 'years old')\n"
   ]
  },
  {
   "cell_type": "code",
   "execution_count": 10,
   "metadata": {},
   "outputs": [
    {
     "name": "stdout",
     "output_type": "stream",
     "text": [
      "35 -15 250 0.4 3\n"
     ]
    }
   ],
   "source": [
    "#arithmetic operators\n",
    "\n",
    "a = 10\n",
    "b = 25\n",
    "c = 3\n",
    "\n",
    "print(a+b, a-b, a*b, a/b, a//c)\n",
    "# // is integer division \n"
   ]
  }
 ],
 "metadata": {
  "kernelspec": {
   "display_name": "Python 3.9.12 ('base')",
   "language": "python",
   "name": "python3"
  },
  "language_info": {
   "codemirror_mode": {
    "name": "ipython",
    "version": 3
   },
   "file_extension": ".py",
   "mimetype": "text/x-python",
   "name": "python",
   "nbconvert_exporter": "python",
   "pygments_lexer": "ipython3",
   "version": "3.9.12"
  },
  "orig_nbformat": 4,
  "vscode": {
   "interpreter": {
    "hash": "d0d70ec63e48daca6a80a8f89659f2083bfc1275bfb9d7f3c65e2756bbb00474"
   }
  }
 },
 "nbformat": 4,
 "nbformat_minor": 2
}
