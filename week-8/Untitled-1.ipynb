{
 "cells": [
  {
   "cell_type": "code",
   "execution_count": 1,
   "metadata": {},
   "outputs": [],
   "source": [
    "### RECAP ###\n",
    "\n",
    "import pandas as pd\n",
    "fpath = 'C:/Users/Chen/OneDrive/PY_Nov/Unit Lab Materials/Data Analysis Starter Data and Solution Code/python-lab-data-grocery-sales/'\n",
    "file_name = 'sales.csv'\n",
    "fload = fpath + file_name\n",
    "df = pd.read_csv(fload)\n",
    "df.dtypes\n",
    "\n",
    "#Drop null\n",
    "df.dropna()\n",
    "#Fill null\n",
    "df.fillna('Carolyn')\n",
    "#convert to date time\n",
    "df['Promised Delivery Date'] = pd.to_datetime(df['Promised Delivery Date'],format='%m/%d/%Y')\n",
    "df['Promised Delivery Date'].dt.month"
   ]
  },
  {
   "cell_type": "code",
   "execution_count": 15,
   "metadata": {},
   "outputs": [
    {
     "data": {
      "text/plain": [
       "0       -1151.422186\n",
       "1        -744.202186\n",
       "2        -726.342186\n",
       "3        -681.392186\n",
       "4        -676.252186\n",
       "            ...     \n",
       "96461       0.000000\n",
       "96462       0.000000\n",
       "96463       0.000000\n",
       "96464       0.000000\n",
       "96465       0.000000\n",
       "Name: Cost, Length: 96466, dtype: float64"
      ]
     },
     "execution_count": 15,
     "metadata": {},
     "output_type": "execute_result"
    }
   ],
   "source": [
    "#Apply\n",
    "import numpy as np\n",
    "def diff_mean(x,y):\n",
    "    if x > 100:\n",
    "        diff_mean = 0\n",
    "    else:\n",
    "        diff_mean = x - y\n",
    "    return diff_mean\n",
    "\n",
    "df['Cost'].apply(diff_mean,y=np.mean(df['Cost']))\n",
    "df['Cost'] - df['Cost'].mean()"
   ]
  },
  {
   "cell_type": "code",
   "execution_count": 41,
   "metadata": {},
   "outputs": [],
   "source": [
    "#Duplicates\n",
    "ex_dup = pd.read_clipboard()\n",
    "ex_dup[['Speices','Heart rate / min','Life expectancy']].drop_duplicates()"
   ]
  },
  {
   "cell_type": "code",
   "execution_count": 77,
   "metadata": {},
   "outputs": [],
   "source": [
    "#Group by & apply\n",
    "def func_a(x):\n",
    "    y = x['HR']*x['LE']*525600\n",
    "    return y\n",
    "\n",
    "df_groupby = pd.read_clipboard()\n",
    "df_groupby.groupby('size').apply(func_a,axis=0)"
   ]
  },
  {
   "cell_type": "code",
   "execution_count": 98,
   "metadata": {},
   "outputs": [],
   "source": [
    "#Merge & Concat\n",
    "df_hr = pd.read_clipboard()\n",
    "df_le = pd.read_clipboard()\n",
    "pd.merge(df_hr,df_le,how='outer',left_on='Speices',right_on='Speices')\n",
    "\n",
    "list_df = [df_hr,df_le,df_le]\n",
    "pd.concat(df_hr,df_le,df_le,axis=1)"
   ]
  }
 ],
 "metadata": {
  "interpreter": {
   "hash": "b3ba2566441a7c06988d0923437866b63cedc61552a5af99d1f4fb67d367b25f"
  },
  "kernelspec": {
   "display_name": "Python 3.7.4 64-bit ('base': conda)",
   "language": "python",
   "name": "python3"
  },
  "language_info": {
   "codemirror_mode": {
    "name": "ipython",
    "version": 3
   },
   "file_extension": ".py",
   "mimetype": "text/x-python",
   "name": "python",
   "nbconvert_exporter": "python",
   "pygments_lexer": "ipython3",
   "version": "3.7.4"
  },
  "orig_nbformat": 4
 },
 "nbformat": 4,
 "nbformat_minor": 2
}
