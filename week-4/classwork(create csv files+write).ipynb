{
 "cells": [
  {
   "cell_type": "code",
   "execution_count": 9,
   "metadata": {},
   "outputs": [],
   "source": [
    "#writing to csv file\n",
    "import csv\n",
    "\n",
    "people = [{'name': 'John', 'age': 30, 'sex': 'M', 'address': 'Toronto'}]\n",
    "fields = ['name', 'age', 'sex', 'address']\n",
    "\n",
    "#write this to a csv file called people.csv\n",
    "\n",
    "with open('people.csv', 'w', newline='') as data_file:\n",
    "    #fieldnames = ['name', 'age', 'sex', 'address']\n",
    "    writer = csv.DictWriter(data_file, fieldnames=fields)\n",
    "\n",
    "    writer.writeheader()\n",
    "    for person in people:\n",
    "        writer.writerow(person)\n",
    "        \n",
    "    \n",
    "\n",
    "\n"
   ]
  }
 ],
 "metadata": {
  "kernelspec": {
   "display_name": "Python 3.9.12 ('base')",
   "language": "python",
   "name": "python3"
  },
  "language_info": {
   "codemirror_mode": {
    "name": "ipython",
    "version": 3
   },
   "file_extension": ".py",
   "mimetype": "text/x-python",
   "name": "python",
   "nbconvert_exporter": "python",
   "pygments_lexer": "ipython3",
   "version": "3.9.12"
  },
  "orig_nbformat": 4,
  "vscode": {
   "interpreter": {
    "hash": "d0d70ec63e48daca6a80a8f89659f2083bfc1275bfb9d7f3c65e2756bbb00474"
   }
  }
 },
 "nbformat": 4,
 "nbformat_minor": 2
}
