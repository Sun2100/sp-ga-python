{
 "cells": [
  {
   "cell_type": "code",
   "execution_count": 21,
   "metadata": {},
   "outputs": [
    {
     "name": "stdout",
     "output_type": "stream",
     "text": [
      "[{'title': 'another', 'expense_type': 'income', 'amount': '10', 'date': '10'}, {'title': 'title', 'expense_type': 'income', 'amount': '20', 'date': '10'}]\n"
     ]
    }
   ],
   "source": [
    "import csv\n",
    "\n",
    "#a dictionary\n",
    "            #TODO dictionary should look like this \n",
    "            #{account number: entry#: title, expense type, amount, date\n",
    "            # account number: entry#: title, expense type, amount, date\n",
    "            # account number: entry#: title, expense type, amount, date\n",
    "            # account number: entry#: title, expense type, amount, date}\n",
    "\n",
    "            # account number: 10, entry#: 0, title: t, expese type: income, amount: 10, date: 1-1-2002\n",
    "\n",
    "fields = ['title', 'expense_type', 'amount', 'date']\n",
    "entry_list = []\n",
    "\n",
    "def get_input():\n",
    "    title = input(\"Enter the title: \")\n",
    "    expense_type = input(\"Enter expense type: \")\n",
    "    amount = input(\"enter amount:\")\n",
    "    date = input(\"enter the date: \")\n",
    "\n",
    "    add_new_entry(title,expense_type,amount,date)\n",
    "\n",
    "    option = input(\"Enter another entry? (y/n)\")\n",
    "\n",
    "    return option\n",
    "\n",
    "def add_new_entry(titl,exp,amt,date):\n",
    "    account = {}\n",
    "     \n",
    "    account[\"title\"] = titl\n",
    "    account[\"expense_type\"] = exp  \n",
    "    account[\"amount\"] = amt\n",
    "    account[\"date\"] = date\n",
    "\n",
    "    entry_list.append(account)\n",
    "    \n",
    "       \n",
    "def write_to_file():\n",
    "    with open(\"./budget_output_solo_dictionary.csv\", \"w\" ) as file:\n",
    "        writer = csv.DictWriter(file, fieldnames=fields)\n",
    "        writer.writeheader() \n",
    "        writer.writerows(entry_list)\n",
    "\n",
    "def in_it(): #check if file exist\n",
    "    \n",
    "    try:\n",
    "       data_file = open(\"./budget_output_solo_dictionary.csv\", \"r\") \n",
    "       reader = csv.DictReader(data_file) #load the file to the list if file exist\n",
    "       for row in reader:\n",
    "           entry_list.append(row) #grab the old and add to new entry\n",
    "       data_file.close() \n",
    "    except:\n",
    "        print(\"will create file\")\n",
    "\n",
    "def view_all_previous_entries():\n",
    "    data_file = open(\"./budget_output_solo_dictionary.csv\", \"r\") \n",
    "    reader = csv.DictReader(data_file) #load the file to the list if file exist\n",
    "    for row in reader:\n",
    "        print(row)\n",
    "\n",
    "    \n",
    "\n",
    "def run_it():\n",
    "    in_it()\n",
    "    \n",
    "    while True:\n",
    "        choices = get_input()\n",
    "        if choices == \"n\":\n",
    "            break\n",
    "    write_to_file()\n",
    "\n",
    "run_it()\n",
    "view_all_previous_entries()\n",
    "\n"
   ]
  }
 ],
 "metadata": {
  "kernelspec": {
   "display_name": "Python 3.9.12 ('base')",
   "language": "python",
   "name": "python3"
  },
  "language_info": {
   "codemirror_mode": {
    "name": "ipython",
    "version": 3
   },
   "file_extension": ".py",
   "mimetype": "text/x-python",
   "name": "python",
   "nbconvert_exporter": "python",
   "pygments_lexer": "ipython3",
   "version": "3.9.12"
  },
  "orig_nbformat": 4,
  "vscode": {
   "interpreter": {
    "hash": "d0d70ec63e48daca6a80a8f89659f2083bfc1275bfb9d7f3c65e2756bbb00474"
   }
  }
 },
 "nbformat": 4,
 "nbformat_minor": 2
}
