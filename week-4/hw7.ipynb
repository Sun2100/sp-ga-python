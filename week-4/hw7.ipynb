{
 "cells": [
  {
   "cell_type": "code",
   "execution_count": 1,
   "metadata": {},
   "outputs": [],
   "source": [
    "#Define a class BankAccount\n",
    "#A BankAccount has an id, an account_number, a name (the person who owns the account), and a balance\n",
    "#The opening balance of the account is 0\n",
    "class BankAccount:\n",
    "    def __init__(self, id, account_number, name):\n",
    "        #implement the init method\n",
    "        self.id = id\n",
    "        self.account_number = account_number\n",
    "        self.name = name\n",
    "        self.balance = 0\n",
    "\n",
    "    def deposit(self, amount):\n",
    "\n",
    "        self.balance += amount\n",
    "        \n",
    "\n",
    "    def withdraw(self, amount):\n",
    "        if self.balance > amount:\n",
    "            self.balance -= amount\n",
    "        else:\n",
    "            print(\"overdraft activity is prohibited\")\n",
    "        \n",
    "    def __repr__(self):\n",
    "        print(f\"id: {self.id}\\taccount number:{self.account_number}\\tname:{self.name}\\tbalance for an account:{self.balance}\")\n",
    "#Implement deposit and withdraw methods for the BankAccount class\n",
    "#We dont allow overdrafts for our accounts, so remember to check that\n",
    "#You have a sufficient balance when you are doing a withdrawal\n",
    "\n",
    "#Implement the __repr__ method to display the id, account_number, name, and balance for an account\n",
    "\n"
   ]
  },
  {
   "cell_type": "code",
   "execution_count": null,
   "metadata": {},
   "outputs": [],
   "source": [
    "#Create ten BankAccount objects and insert them into a list\n",
    "#We want to send out an email to all the bank account holders\n",
    "#Write a function get_eligible_accounts, that takes the list of accounnts\n",
    "# and a target_balance and returns a new list with only those accounts\n",
    "#that have a balance greater than a target_balance\n",
    "def get_eligible_accounts(accounts, target_balance):\n",
    "    result = []\n",
    "    for account in accounts:\n",
    "        if account.balance > target_balance:\n",
    "            result.append(account)\n",
    "    return result\n",
    "\n",
    "\n"
   ]
  },
  {
   "cell_type": "code",
   "execution_count": null,
   "metadata": {},
   "outputs": [],
   "source": [
    "#Define a class Flight that we will use to track an airline flight\n",
    "# and all the bookings we have\n",
    "#The Fight class has flight_number, origin, destination, capacity\n",
    "\n",
    "class Flight:\n",
    "    def __init__(self, flight_number, origin, destination, capacity):\n",
    "        #define the init method\n",
    "        self.flight_number = flight_number\n",
    "        self.origin = origin\n",
    "        self.destination = destination\n",
    "        self.capacity = capacity\n",
    "        self.booking =  []\n",
    "        # \n",
    "    \n",
    "    def book_method(self, customer):\n",
    "        #add customer to booking list   \n",
    "        if type(customer) is Customer:\n",
    "            self.booking.append(customer)\n",
    "            self.capacity -= 1\n",
    "        else:\n",
    "            #raise an error\n",
    "            raise TypeError(f\"Invalid type. expected Customer, got {type(customer)}\")\n",
    "\n",
    "    def get_booking(self):\n",
    "        return self.booking\n",
    "        # \n",
    "\n",
    "#define a book method that books the flight\n",
    "#the book method must decrese the capacity of the flight \n",
    "#by 1 each time it is called\n",
    "\n",
    "#define the __repr__ method that prints out a flight's number, origin, and destination"
   ]
  },
  {
   "cell_type": "code",
   "execution_count": null,
   "metadata": {},
   "outputs": [],
   "source": [
    "#Lets build on the airline application.\n",
    "#Create a customer class. Each cutomer has an id, name, age, sex\n",
    "#Modify your book method to accept a customer.\n",
    "#Add this customer to a bookings list in your Flight class (modify your Flight class to have a bookings list)\n",
    "#Make sure that we can only insert a Customer object in our bookings list, and not  other data type\n",
    "#implement a method get_bookings to display the id, name, age, and sex of all\n",
    "#the customers that have been booked on the flight\n",
    "\n",
    "class Customer:\n",
    "    def __init__(self, id, name, age, sex):\n",
    "        self.id = id\n",
    "        self.name = name\n",
    "        self.age = age\n",
    "        self.sex = sex\n",
    "\n",
    "    \n",
    "    def __repr__(self):    \n",
    "        return f\"id: {self.id}\\tname: {self.name}\\tage: {self.age}\\tsex: {self.sex}\" \n"
   ]
  }
 ],
 "metadata": {
  "kernelspec": {
   "display_name": "Python 3.9.12 ('base')",
   "language": "python",
   "name": "python3"
  },
  "language_info": {
   "codemirror_mode": {
    "name": "ipython",
    "version": 3
   },
   "file_extension": ".py",
   "mimetype": "text/x-python",
   "name": "python",
   "nbconvert_exporter": "python",
   "pygments_lexer": "ipython3",
   "version": "3.9.12"
  },
  "orig_nbformat": 4,
  "vscode": {
   "interpreter": {
    "hash": "d0d70ec63e48daca6a80a8f89659f2083bfc1275bfb9d7f3c65e2756bbb00474"
   }
  }
 },
 "nbformat": 4,
 "nbformat_minor": 2
}
