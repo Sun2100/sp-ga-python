{
 "cells": [
  {
   "cell_type": "code",
   "execution_count": 13,
   "metadata": {},
   "outputs": [
    {
     "name": "stdout",
     "output_type": "stream",
     "text": [
      "\n",
      "BK201\t2116\tSon\t$50000\n",
      "\n"
     ]
    }
   ],
   "source": [
    "#Define a class BankAccount\n",
    "#A BankAccount has an id, an account_number, a name (the person who owns the account), and a balance\n",
    "#The opening balance of the account is 0\n",
    "class BankAccount:\n",
    "    def __init__(self, id, account_number, name, balance):\n",
    "        #implement the init method\n",
    "        self.id = id\n",
    "        self.account_number = account_number\n",
    "        self.name = name \n",
    "        self.balance = balance\n",
    "        pass\n",
    "\n",
    "    def deposit_method(balance, amount_deposit): #overdraft limit is 3000 deposit per month\n",
    "        fee = 0.1*amount_deposit\n",
    "\n",
    "        if amount_deposit < 3000:\n",
    "            balance += amount_deposit\n",
    "        else:\n",
    "            balance = balance + amount_deposit - fee\n",
    "    \n",
    "    def withdraw_method(balance, amount_withdraw): #check for overdraft?\n",
    "        if int(balance) > 0:\n",
    "            balance = balance - amount_withdraw\n",
    "\n",
    "    def __repr__(self): \n",
    "        return f\"\\n{self.id}\\t{self.account_number}\\t{self.name}\\t${self.balance}\\n\"\n",
    "\n",
    "#Implement deposit and withdraw methods for the BankAccount class\n",
    "#We dont allow overdrafts for our accounts, so remember to check that\n",
    "#You have a sufficient balance when you are doing a withdrawal\n",
    "\n",
    "#Implement the __repr__ method to display the id, account_number, name, and balance for an account\n",
    "\n",
    "#check\n",
    "b = BankAccount(\"BK201\", \"2116\", \"Son\", \"50000\")\n",
    "\n",
    "print(b)"
   ]
  },
  {
   "cell_type": "code",
   "execution_count": 14,
   "metadata": {},
   "outputs": [
    {
     "name": "stdout",
     "output_type": "stream",
     "text": [
      "[\n",
      "GA\t17\tga\t$8000\n",
      ", \n",
      "HA\t18\tha\t$9000\n",
      ", \n",
      "IA\t19\tia\t$10000\n",
      ", \n",
      "JA\t20\tja\t$11000\n",
      ", \n",
      "KA\t21\tka\t$12000\n",
      "]\n"
     ]
    }
   ],
   "source": [
    "#Create ten BankAccount objects and insert them into a list\n",
    "#We want to send out an email to all the bank account holders\n",
    "#Write a function get_eligible_accounts, that takes the list of accounnts\n",
    "# and a target_balance and returns a new list with only those accounts\n",
    "#that have a balance greater than a target_balance\n",
    "def get_eligible_accounts(accounts, target_balance):\n",
    "    target_balance = 50000\n",
    "    pass\n",
    "\n",
    "#creating 10 BankAccount objects;\n",
    "ba = BankAccount(\"BA\", \"11\", \"ba\", 3000)\n",
    "ca = BankAccount(\"CA\", \"12\", \"ca\", 4000)\n",
    "da = BankAccount(\"DA\", \"13\", \"da\", 5000)\n",
    "ea = BankAccount(\"EA\", \"14\", \"ea\", 6000)\n",
    "fa = BankAccount(\"FA\", \"16\", \"fa\", 7000)\n",
    "ga = BankAccount(\"GA\", \"17\", \"ga\", 8000)\n",
    "ha = BankAccount(\"HA\", \"18\", \"ha\", 9000)\n",
    "ia = BankAccount(\"IA\", \"19\", \"ia\", 10000)\n",
    "ja = BankAccount(\"JA\", \"20\", \"ja\", 11000)\n",
    "ka = BankAccount(\"KA\", \"21\", \"ka\", 12000)\n",
    "\n",
    "#insert into a list;\n",
    "my_list = [ba, ca, da, ea, fa, ga, ha, ia, ja, ka]\n",
    "new_list = []\n",
    "\n",
    "#check my_list;\n",
    "#print(my_list[0])\n",
    "\n",
    "for member in my_list:\n",
    "    if member.balance > 7000: #target balance is higher than $7000\n",
    "        new_list.append(member)\n",
    "\n",
    "\n",
    "print(new_list)\n",
    "\n"
   ]
  },
  {
   "cell_type": "code",
   "execution_count": null,
   "metadata": {},
   "outputs": [],
   "source": [
    "#Define a class Flight that we will use to track an airline flight\n",
    "# and all the bookings we have\n",
    "#The Fight class has flight_number, origin, destination, capacity\n",
    "\n",
    "class Flight:\n",
    "    def __init__(self):\n",
    "        #define the init method\n",
    "        # \n",
    "\n",
    "#define a book method that books the flight\n",
    "#the book method must decrese the capacity of the flight \n",
    "#by 1 each time it is called\n",
    "\n",
    "#define the __repr__ method that prints out a flight's number, origin, and destination"
   ]
  },
  {
   "cell_type": "code",
   "execution_count": null,
   "metadata": {},
   "outputs": [],
   "source": [
    "#Lets build on the airline application.\n",
    "#Create a customer class. Each cutomer has an id, name, age, sex\n",
    "#Modify your book method to accept a customer.\n",
    "#Add this customer to a bookings list in your Flight class (modify your Flight class to have a bookings list)\n",
    "#Make sure that we can only insert a Customer object in our bookings list, and not  other data type\n",
    "#implement a method get_bookings to display the id, name, age, and sex of all\n",
    "#the customers that have been booked on the flight\n"
   ]
  }
 ],
 "metadata": {
  "kernelspec": {
   "display_name": "Python 3.9.12 ('base')",
   "language": "python",
   "name": "python3"
  },
  "language_info": {
   "codemirror_mode": {
    "name": "ipython",
    "version": 3
   },
   "file_extension": ".py",
   "mimetype": "text/x-python",
   "name": "python",
   "nbconvert_exporter": "python",
   "pygments_lexer": "ipython3",
   "version": "3.9.12"
  },
  "orig_nbformat": 4,
  "vscode": {
   "interpreter": {
    "hash": "d0d70ec63e48daca6a80a8f89659f2083bfc1275bfb9d7f3c65e2756bbb00474"
   }
  }
 },
 "nbformat": 4,
 "nbformat_minor": 2
}
