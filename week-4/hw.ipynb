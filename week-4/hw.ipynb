{
 "cells": [
  {
   "cell_type": "code",
   "execution_count": 39,
   "metadata": {},
   "outputs": [
    {
     "name": "stdout",
     "output_type": "stream",
     "text": [
      "\n",
      "id: BK201\taccount number:2116\t name:Son\tbalance: $50000\n",
      "\n",
      "\n"
     ]
    }
   ],
   "source": [
    "#Define a class BankAccount\n",
    "#A BankAccount has an id, an account_number, a name (the person who owns the account), and a balance\n",
    "#The opening balance of the account is 0\n",
    "class BankAccount:\n",
    "    def __init__(self, id, account_number, name): #balance has default of zero so no need \n",
    "        #after we create an account then we deposit therefore account initial value is zero\n",
    "        #implement the init method\n",
    "        self.id = id\n",
    "        self.account_number = account_number\n",
    "        self.name = name \n",
    "        self.balance = 0.0\n",
    "        pass\n",
    "\n",
    "    def deposit_method(self, amount_deposit): #balance #overdraft limit is 3000 deposit per month\n",
    "        self.balance += amount_deposit\n",
    "        #fee = 0.1*amount_deposit\n",
    "\n",
    "        #if amount_deposit < 3000:\n",
    "        #    balance += amount_deposit\n",
    "        #else:\n",
    "        #    balance = balance + amount_deposit - fee\n",
    "    \n",
    "    def withdraw_method(self, amount_withdraw): #check for overdraft?\n",
    "        if amount_withdraw <= self.balance:\n",
    "            self.balance -= amount_withdraw\n",
    "\n",
    "    def __repr__(self): \n",
    "        return f\"\\nid: {self.id}\\taccount number:{self.account_number}\\t name:{self.name}\\tbalance: ${self.balance}\\n\\n\"\n",
    "\n",
    "#Implement deposit and withdraw methods for the BankAccount class\n",
    "#We dont allow overdrafts for our accounts, so remember to check that\n",
    "#You have a sufficient balance when you are doing a withdrawal\n",
    "\n",
    "#Implement the __repr__ method to display the id, account_number, name, and balance for an account\n",
    "\n",
    "#check\n",
    "b = BankAccount(\"BK201\", \"2116\", \"Son\")\n",
    "b.balance = 50000\n",
    "\n",
    "print(b)"
   ]
  },
  {
   "cell_type": "code",
   "execution_count": 40,
   "metadata": {},
   "outputs": [
    {
     "data": {
      "text/plain": [
       "[\n",
       " id: 5\taccount number:400\t name:ca\tbalance: $864.0\n",
       " ,\n",
       " \n",
       " id: 8\taccount number:700\t name:da\tbalance: $654.0\n",
       " ,\n",
       " \n",
       " id: 9\taccount number:800\t name:ba\tbalance: $614.0\n",
       " ,\n",
       " \n",
       " id: 11\taccount number:1000\t name:fa\tbalance: $821.0\n",
       " ,\n",
       " \n",
       " id: 14\taccount number:1300\t name:ga\tbalance: $700.0\n",
       " ,\n",
       " \n",
       " id: 15\taccount number:1400\t name:ha\tbalance: $609.0\n",
       " ,\n",
       " \n",
       " id: 19\taccount number:1800\t name:ea\tbalance: $751.0\n",
       " ,\n",
       " \n",
       " id: 20\taccount number:1900\t name:ea\tbalance: $604.0\n",
       " ]"
      ]
     },
     "execution_count": 40,
     "metadata": {},
     "output_type": "execute_result"
    }
   ],
   "source": [
    "#Create ten BankAccount objects and insert them into a list\n",
    "#We want to send out an email to all the bank account holders\n",
    "#Write a function get_eligible_accounts, that takes the list of accounnts\n",
    "# and a target_balance and returns a new list with only those accounts\n",
    "#that have a balance greater than a target_balance\n",
    "import random\n",
    "\n",
    "def get_eligible_accounts(accounts, target_balance):\n",
    "    result = []\n",
    "    for account in accounts:\n",
    "        if account.balance > target_balance:\n",
    "            result.append(account)\n",
    "    return result\n",
    "\n",
    "#creating 10 BankAccount objects;\n",
    "def generate_account(n): #n is a variable\n",
    "    data = []\n",
    "    names = [\"ba\", \"ca\", \"da\", \"ea\", \"fa\", \"ga\", \"ha\"]\n",
    "    for i in range(n + 1):\n",
    "        #create account and add to the list\n",
    "        a = BankAccount(i+1, i*100, random.choice(names)) #grabbing names at random from the list\n",
    "        #call deposit with a random amount between 100 and 1000\n",
    "        #a.balance = random.randint(100,1000)\n",
    "        a.deposit_method(random.randint(100, 1000))\n",
    "        data.append(a)\n",
    "    return data\n",
    "#check\n",
    "account_list = generate_account(20)\n",
    "#print(account_list)\n",
    "\n",
    "get_eligible_accounts(account_list, 600)\n",
    "\n",
    "#ba = BankAccount(\"BA\", \"11\", \"ba\")\n",
    "#ba.balance = 3000\n",
    "#ca = BankAccount(\"CA\", \"12\", \"ca\", 4000)\n",
    "#ca.balance = 4000\n",
    "#da = BankAccount(\"DA\", \"13\", \"da\", 5000)\n",
    "#da.balance = 5000\n",
    "#ea = BankAccount(\"EA\", \"14\", \"ea\", 6000)\n",
    "#ea.balance = 6000\n",
    "#fa = BankAccount(\"FA\", \"16\", \"fa\", 7000)\n",
    "#fa.balance = 7000\n",
    "#ga = BankAccount(\"GA\", \"17\", \"ga\", 8000)\n",
    "#ga.balance = 8000\n",
    "#ha = BankAccount(\"HA\", \"18\", \"ha\", 9000)\n",
    "#ha.balance = 9000\n",
    "#ia = BankAccount(\"IA\", \"19\", \"ia\", 10000)\n",
    "#ba.balance = 10000\n",
    "#ja = BankAccount(\"JA\", \"20\", \"ja\", 11000)\n",
    "#ja.balance = 11000\n",
    "#ka = BankAccount(\"KA\", \"21\", \"ka\", 12000)\n",
    "#ka.balance = 12000\n",
    "\n",
    "#insert into a list;\n",
    "#my_list = [ba, ca, da, ea, fa, ga, ha, ia, ja, ka]\n",
    "#new_list = []\n",
    "\n",
    "#check my_list;\n",
    "#print(my_list[0])\n",
    "\n",
    "#for member in my_list:\n",
    "#    if member.balance > 7000: #target balance is higher than $7000\n",
    "#        new_list.append(member)\n",
    "\n",
    "\n",
    "#print(new_list)\n",
    "\n"
   ]
  },
  {
   "cell_type": "code",
   "execution_count": 113,
   "metadata": {},
   "outputs": [],
   "source": [
    "#Define a class Flight that we will use to track an airline flight\n",
    "# and all the bookings we have\n",
    "#The Fight class has flight_number, origin, destination, capacity\n",
    "\n",
    "class Flight:\n",
    "    def __init__(self, flight_number, origin, destination, capacity):\n",
    "        #define the init method\n",
    "        self.flight_number = flight_number\n",
    "        self.origin = origin\n",
    "        self.destination = destination\n",
    "        self.capacity = capacity\n",
    "        self.booking =  []\n",
    "        # \n",
    "    \n",
    "    def book_method(self, customer):\n",
    "        #add customer to booking list   \n",
    "        if type(customer) is Customer:\n",
    "            self.booking.append(customer)\n",
    "            self.capacity -= 1\n",
    "        else:\n",
    "            #raise an error\n",
    "            raise TypeError(f\"Invalid type. expected Customer, got {type(customer)}\")\n",
    "\n",
    "    def get_booking(self):\n",
    "        return self.booking\n",
    "\n",
    "#define a book method that books the flight\n",
    "#the book method must decrese the capacity of the flight \n",
    "#by 1 each time it is called\n",
    "\n",
    "#define the __repr__ method that prints out a flight's number, origin, and destination\n",
    "    def __repr__(self):\n",
    "        return f\"Flight #: {self.flight_number}\\nFrom: {self.origin}\\nTo: {self.destination}\"\n",
    "\n"
   ]
  },
  {
   "cell_type": "code",
   "execution_count": 52,
   "metadata": {},
   "outputs": [],
   "source": [
    "#Lets build on the airline application.\n",
    "#Create a customer class. Each cutomer has an id, name, age, sex\n",
    "#Modify your book method to accept a customer.\n",
    "#Add this customer to a bookings list in your Flight class (modify your Flight class to have a bookings list)\n",
    "#Make sure that we can only insert a Customer object in our bookings list, and not  other data type\n",
    "#implement a method get_bookings to display the id, name, age, and sex of all\n",
    "#the customers that have been booked on the flight\n",
    "\n",
    "class Customer:\n",
    "    def __init__(self, id, name, age, sex):\n",
    "        self.id = id\n",
    "        self.name = name\n",
    "        self.age = age\n",
    "        self.sex = sex\n",
    "\n",
    "    \n",
    "    def __repr__(self):    \n",
    "        return f\"id: {self.id}\\tname: {self.name}\\tage: {self.age}\\tsex: {self.sex}\" \n",
    "\n",
    "\n",
    "\n",
    "\n"
   ]
  },
  {
   "cell_type": "code",
   "execution_count": 116,
   "metadata": {},
   "outputs": [
    {
     "name": "stdout",
     "output_type": "stream",
     "text": [
      "Flight #: AC111\n",
      "From: YYZ\n",
      "To: JPN\n",
      "id: 100\tname: John\tage: 21\tsex: Male\n"
     ]
    }
   ],
   "source": [
    "#create a flight\n",
    "\n",
    "f = Flight(\"AC111\", \"YYZ\", \"JPN\", 210)\n",
    "print(f)\n",
    "\n",
    "c = Customer(100, \"John\", 21, \"Male\")\n",
    "print(c)"
   ]
  },
  {
   "cell_type": "code",
   "execution_count": 117,
   "metadata": {},
   "outputs": [
    {
     "name": "stdout",
     "output_type": "stream",
     "text": [
      "[id: 100\tname: John\tage: 21\tsex: Male]\n"
     ]
    },
    {
     "ename": "TypeError",
     "evalue": "Invalid type. expected Customer, got <class 'str'>",
     "output_type": "error",
     "traceback": [
      "\u001b[0;31m---------------------------------------------------------------------------\u001b[0m",
      "\u001b[0;31mTypeError\u001b[0m                                 Traceback (most recent call last)",
      "\u001b[1;32m/Users/sun/Desktop/python-15/week-4/hw.ipynb Cell 6'\u001b[0m in \u001b[0;36m<cell line: 4>\u001b[0;34m()\u001b[0m\n\u001b[1;32m      <a href='vscode-notebook-cell:/Users/sun/Desktop/python-15/week-4/hw.ipynb#ch0000008?line=0'>1</a>\u001b[0m f\u001b[39m.\u001b[39mbook_method(c)\n\u001b[1;32m      <a href='vscode-notebook-cell:/Users/sun/Desktop/python-15/week-4/hw.ipynb#ch0000008?line=1'>2</a>\u001b[0m \u001b[39mprint\u001b[39m(f\u001b[39m.\u001b[39mget_booking())\n\u001b[0;32m----> <a href='vscode-notebook-cell:/Users/sun/Desktop/python-15/week-4/hw.ipynb#ch0000008?line=3'>4</a>\u001b[0m f\u001b[39m.\u001b[39;49mbook_method(\u001b[39m'\u001b[39;49m\u001b[39mjon\u001b[39;49m\u001b[39m'\u001b[39;49m)\n\u001b[1;32m      <a href='vscode-notebook-cell:/Users/sun/Desktop/python-15/week-4/hw.ipynb#ch0000008?line=4'>5</a>\u001b[0m \u001b[39mprint\u001b[39m(f\u001b[39m.\u001b[39mget_booking())\n",
      "\u001b[1;32m/Users/sun/Desktop/python-15/week-4/hw.ipynb Cell 3'\u001b[0m in \u001b[0;36mFlight.book_method\u001b[0;34m(self, customer)\u001b[0m\n\u001b[1;32m     <a href='vscode-notebook-cell:/Users/sun/Desktop/python-15/week-4/hw.ipynb#ch0000002?line=18'>19</a>\u001b[0m     \u001b[39mself\u001b[39m\u001b[39m.\u001b[39mcapacity \u001b[39m-\u001b[39m\u001b[39m=\u001b[39m \u001b[39m1\u001b[39m\n\u001b[1;32m     <a href='vscode-notebook-cell:/Users/sun/Desktop/python-15/week-4/hw.ipynb#ch0000002?line=19'>20</a>\u001b[0m \u001b[39melse\u001b[39;00m:\n\u001b[1;32m     <a href='vscode-notebook-cell:/Users/sun/Desktop/python-15/week-4/hw.ipynb#ch0000002?line=20'>21</a>\u001b[0m     \u001b[39m#raise an error\u001b[39;00m\n\u001b[0;32m---> <a href='vscode-notebook-cell:/Users/sun/Desktop/python-15/week-4/hw.ipynb#ch0000002?line=21'>22</a>\u001b[0m     \u001b[39mraise\u001b[39;00m \u001b[39mTypeError\u001b[39;00m(\u001b[39mf\u001b[39m\u001b[39m\"\u001b[39m\u001b[39mInvalid type. expected Customer, got \u001b[39m\u001b[39m{\u001b[39;00m\u001b[39mtype\u001b[39m(customer)\u001b[39m}\u001b[39;00m\u001b[39m\"\u001b[39m)\n",
      "\u001b[0;31mTypeError\u001b[0m: Invalid type. expected Customer, got <class 'str'>"
     ]
    }
   ],
   "source": [
    "f.book_method(c)\n",
    "print(f.get_booking())\n",
    "\n",
    "f.book_method('jon') #error message here\n",
    "print(f.get_booking())"
   ]
  }
 ],
 "metadata": {
  "kernelspec": {
   "display_name": "Python 3.9.12 ('base')",
   "language": "python",
   "name": "python3"
  },
  "language_info": {
   "codemirror_mode": {
    "name": "ipython",
    "version": 3
   },
   "file_extension": ".py",
   "mimetype": "text/x-python",
   "name": "python",
   "nbconvert_exporter": "python",
   "pygments_lexer": "ipython3",
   "version": "3.9.12"
  },
  "orig_nbformat": 4,
  "vscode": {
   "interpreter": {
    "hash": "d0d70ec63e48daca6a80a8f89659f2083bfc1275bfb9d7f3c65e2756bbb00474"
   }
  }
 },
 "nbformat": 4,
 "nbformat_minor": 2
}
