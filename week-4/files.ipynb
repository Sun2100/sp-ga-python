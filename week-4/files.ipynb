{
 "cells": [
  {
   "cell_type": "code",
   "execution_count": 3,
   "metadata": {},
   "outputs": [
    {
     "name": "stdout",
     "output_type": "stream",
     "text": [
      "1. This is the first line in the file\n",
      "2. And this is the second line in the file\n",
      "\n"
     ]
    }
   ],
   "source": [
    "#read from a file \n",
    "\n",
    "my_file = open('lines.txt')\n",
    "\n",
    "data = my_file.read()\n",
    "\n",
    "print(data)\n",
    "\n",
    "my_file.close() #indicate that we're done reading the file\n",
    "\n",
    "\n",
    "\n"
   ]
  },
  {
   "cell_type": "code",
   "execution_count": 7,
   "metadata": {},
   "outputs": [
    {
     "name": "stdout",
     "output_type": "stream",
     "text": [
      "['1. This is the first line in the file\\n', '2. And this is the second line in the file\\n']\n"
     ]
    }
   ],
   "source": [
    "my_file = open('lines.txt')\n",
    "lines = my_file.readlines()\n",
    "\n",
    "print(lines)\n",
    "#reading line as a list\n",
    "\n",
    "#or line = my_file.readline()   and   print(line) =  read just one line\n",
    "\n",
    "\n",
    "my_file.close()\n"
   ]
  },
  {
   "cell_type": "code",
   "execution_count": 9,
   "metadata": {},
   "outputs": [
    {
     "name": "stdout",
     "output_type": "stream",
     "text": [
      "['1. This is the first line in the file\\n', '2. And this is the second line in the file\\n']\n"
     ]
    }
   ],
   "source": [
    "#use with if we don't want to bother about closing the file each time\n",
    "\n",
    "with open(\"lines.txt\") as my_file:\n",
    "    lines = my_file.readlines()\n",
    "    print(lines)\n",
    "\n",
    "\n",
    "\n",
    "\n",
    "\n"
   ]
  },
  {
   "cell_type": "code",
   "execution_count": 12,
   "metadata": {},
   "outputs": [],
   "source": [
    "#writing to a file\n",
    "\n",
    "with open(\"lines.txt\", \"w\") as lines_file: #open it for writing by adding \"w\"\n",
    "    lines_file.write(\"3. This is the third line\\n\")\n",
    "\n",
    "#using \"w\" will overwrites the existing file\n",
    "\n",
    "\n",
    "# therefore use append to add to the existing file\n",
    "with open(\"lines.txt\", \"a\") as lines_file:  #\"a\" = append or adding to the end\n",
    "    lines_file.write(\"4. This is the fourth line\\n\")\n",
    "\n"
   ]
  }
 ],
 "metadata": {
  "kernelspec": {
   "display_name": "Python 3.9.12 ('base')",
   "language": "python",
   "name": "python3"
  },
  "language_info": {
   "codemirror_mode": {
    "name": "ipython",
    "version": 3
   },
   "file_extension": ".py",
   "mimetype": "text/x-python",
   "name": "python",
   "nbconvert_exporter": "python",
   "pygments_lexer": "ipython3",
   "version": "3.9.12"
  },
  "orig_nbformat": 4,
  "vscode": {
   "interpreter": {
    "hash": "d0d70ec63e48daca6a80a8f89659f2083bfc1275bfb9d7f3c65e2756bbb00474"
   }
  }
 },
 "nbformat": 4,
 "nbformat_minor": 2
}
