{
 "cells": [
  {
   "cell_type": "code",
   "execution_count": null,
   "metadata": {},
   "outputs": [],
   "source": [
    "#Object Oriented Programming\n",
    "\n",
    "#1. write classes, these classes will have instance variables, and methods\n",
    "#2. use classes to create objects\n",
    "\n",
    "#instagram Account\n",
    "\n",
    "#data :\n",
    "#username\n",
    "#password\n",
    "#posts\n",
    "#followers\n",
    "#Actions:\n",
    "#make comments\n",
    "#share \n",
    "#follow an account\n",
    "#like\n",
    "#unfollow\n",
    "#like \n",
    "#unfollow\n",
    "#Block \n",
    "#error \n",
    "\n",
    "#1. encapsulation\n"
   ]
  },
  {
   "cell_type": "code",
   "execution_count": 7,
   "metadata": {},
   "outputs": [
    {
     "name": "stdout",
     "output_type": "stream",
     "text": [
      "10\n",
      "<bound method Person.birthday of <__main__.Person object at 0x7fdbf8b26850>>\n",
      "11\n",
      "<class 'int'> <class 'str'> <class 'bool'>\n",
      "<class '__main__.Person'>\n"
     ]
    }
   ],
   "source": [
    "class Person:\n",
    "    def __init__(self, name, age): #init method and single parameter called self\n",
    "        #used to initialize the data members of the class\n",
    "        #print(\"class has been initialized\")\n",
    "#self is how python keep track of its internal members\n",
    "        self.name = name\n",
    "        self.age = age\n",
    "    def birthday(self):\n",
    "        #increase age by 1\n",
    "        self.age += 1\n",
    "\n",
    "\n",
    "#instantiate the Person class\n",
    "p = Person(\"John\", 10)\n",
    "\n",
    "print(p.age)\n",
    "\n",
    "p.birthday() #calling birthday function therefore, the age should be increased by 1\n",
    "print(p.age)\n",
    "\n",
    "\n",
    "#p is a object belongs to the Person class\n",
    "#or p is an instance of the Person class\n",
    "\n",
    "#So p, is a variable (object) of type Person\n",
    "\n",
    "num = 10\n",
    "name =  \"John\"\n",
    "\n",
    "has_yacht = False\n",
    "\n",
    "print(type(num), type(name), type(has_yacht))\n",
    "\n",
    "print(type(p)) \n",
    "\n",
    "\n",
    "\n"
   ]
  },
  {
   "cell_type": "code",
   "execution_count": 11,
   "metadata": {},
   "outputs": [
    {
     "name": "stdout",
     "output_type": "stream",
     "text": [
      "50\n",
      "30\n"
     ]
    }
   ],
   "source": [
    "#create a rectangle class\n",
    "#length and width instance variables\n",
    "#area and parameter methods\n",
    "\n",
    "class Rectangle:\n",
    "    def __init__(self, length, width):\n",
    "        self.length = length #assigning\n",
    "        self.width = width\n",
    "        \n",
    "    def area(self):\n",
    "        return self.length * self.width\n",
    "\n",
    "    def parameter(self):\n",
    "        return (self.length + self.width)*2\n",
    "\n",
    "\n",
    "r = Rectangle(10, 5) #creates a length and width and encapsulate them in variable r\n",
    "\n",
    "a = r.area() # or print(r.area())\n",
    "print(a)\n",
    "\n",
    "print(r.parameter())\n",
    "\n",
    "\n",
    "\n",
    "\n",
    "\n"
   ]
  },
  {
   "cell_type": "code",
   "execution_count": 28,
   "metadata": {},
   "outputs": [
    {
     "name": "stdout",
     "output_type": "stream",
     "text": [
      "Lose Yourself\tRap/Hip Hop\tEminem\t2002\n"
     ]
    }
   ],
   "source": [
    "#create a song class\n",
    "#title, genre, artise, year_of_release, rating instance variable\n",
    "\n",
    "class Song:\n",
    "    def __init__(self, title, genre):\n",
    "        self.title = title\n",
    "        self.genre = genre\n",
    "        self.artist = []\n",
    "        self.year_of_release = \"\"\n",
    "        self.rating = 0.0\n",
    "\n",
    "    def set_artist(self, artist):\n",
    "        self.artist.append(artist)\n",
    "    \n",
    "    def set_release_year(self, year):\n",
    "        self.year_of_release = year\n",
    "    #__str__ and __repr__ for string representation of a class use str for printing directly\n",
    "    #use repr for where ever that object is embeded. EX. the next cell called s for song\n",
    "    #which in turn allow use to print it in ths format\n",
    "    def __repr__(self): #python will look for then when you're trying to print (how to print)\n",
    "        return f\"{self.title}\\t{self.genre}\\t{''.join(self.artist)}\\t{self.year_of_release}\"\n",
    "\n",
    "#\\t is for tab\n",
    "\n",
    "s = Song(\"Lose Yourself\", \"Rap/Hip Hop\")\n",
    "\n",
    "s.set_artist(\"Eminem\")\n",
    "s.set_release_year(\"2002\")\n",
    "\n",
    "print(s)\n",
    "\n",
    "\n"
   ]
  },
  {
   "cell_type": "code",
   "execution_count": 32,
   "metadata": {},
   "outputs": [
    {
     "name": "stdout",
     "output_type": "stream",
     "text": [
      "My Faves\n",
      "-----------------\n",
      "1 Lose Yourself\tRap/Hip Hop\tEminem\t2002\n",
      "2 Bodak Yellow\tRap\t\t\n",
      "\n",
      "My Faves\n",
      "-----------------\n",
      "1 Lose Yourself\tRap/Hip Hop\tEminem\t2002\n",
      "\n"
     ]
    }
   ],
   "source": [
    "#create a playlist\n",
    "#title, songs (lists of song objects), \n",
    "#add and delete methods (add song, remove song)\n",
    "#change the title of the playlist method\n",
    "#share our playlist method\n",
    "\n",
    "class Playlist:\n",
    "    #define the __init__method\n",
    "    def __init__(self, title): #song has an initial value (empty list) so we don't need to pass it in here\n",
    "        self.title = title\n",
    "        self.songs = []\n",
    "\n",
    "    def add_songs(self, songs):\n",
    "        if type(songs) is Song: #if its not a song then it won't be added. try without this line\n",
    "            self.songs.append(songs)\n",
    "\n",
    "\n",
    "    def remove_songs(self, title):\n",
    "        song_index = -1 #we don't use zero because if we can't find it then zero is the first position\n",
    "    #search for the index of the song by title\n",
    "    #grab the index, and use it in pop() to remove song from list\n",
    "        for idx in range(len(self.songs)):\n",
    "            if self.songs[idx].title == title:\n",
    "                #grab the index \n",
    "                song_index = idx\n",
    "                #or pop here -> self.songs.pop(idx) since we already found the index\n",
    "                break\n",
    "        if song_index >= 0:\n",
    "            self.songs.pop(song_index)\n",
    "\n",
    "\n",
    "    def __repr__(self):\n",
    "        song_string = \"\"\n",
    "        count = 1\n",
    "        for song in self.songs:\n",
    "            song_string += str(count) + \" \" + song.__repr__() + \"\\n\"\n",
    "            count += 1\n",
    " \n",
    "        return f\"{self.title}\\n-----------------\\n{song_string}\"\n",
    "\n",
    "#display my playlist like this:\n",
    "        #playlist title\n",
    "        #--------------------\n",
    "        #1. <song1>\n",
    "        #2. <song2>\n",
    "\n",
    "favourites_songs = Playlist(\"My Faves\")\n",
    "\n",
    "favourites_songs.add_songs(s)\n",
    "\n",
    "new_song = Song(\"Bodak Yellow\", \"Rap\")\n",
    "\n",
    "favourites_songs.add_songs(new_song)\n",
    "\n",
    "print(favourites_songs)\n",
    "\n",
    "favourites_songs.remove_songs(\"Bodak Yellow\")\n",
    "\n",
    "print(favourites_songs)\n"
   ]
  }
 ],
 "metadata": {
  "kernelspec": {
   "display_name": "Python 3.9.12 ('base')",
   "language": "python",
   "name": "python3"
  },
  "language_info": {
   "codemirror_mode": {
    "name": "ipython",
    "version": 3
   },
   "file_extension": ".py",
   "mimetype": "text/x-python",
   "name": "python",
   "nbconvert_exporter": "python",
   "pygments_lexer": "ipython3",
   "version": "3.9.12"
  },
  "orig_nbformat": 4,
  "vscode": {
   "interpreter": {
    "hash": "d0d70ec63e48daca6a80a8f89659f2083bfc1275bfb9d7f3c65e2756bbb00474"
   }
  }
 },
 "nbformat": 4,
 "nbformat_minor": 2
}
